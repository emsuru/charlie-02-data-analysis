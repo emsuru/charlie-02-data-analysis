{
 "cells": [
  {
   "cell_type": "markdown",
   "id": "6e477e0e",
   "metadata": {},
   "source": [
    "# Exploratory Data Analysis (EDA) for Immo Charlie\n",
    "## Part 1/3: Univariate Analysis"
   ]
  },
  {
   "cell_type": "markdown",
   "id": "68f1c1a7",
   "metadata": {},
   "source": [
    "## Let's set up shop!\n"
   ]
  },
  {
   "cell_type": "code",
   "execution_count": 105,
   "id": "912546c7",
   "metadata": {},
   "outputs": [],
   "source": [
    "#Setting up shop, insalling libraries & dataviz style sheets\n",
    "\n",
    "import pandas as pd\n",
    "import numpy as np\n",
    "import matplotlib.pyplot as plt\n",
    "import matplotlib.ticker as ticker\n",
    "import seaborn as sns\n",
    "plt.style.use('ggplot')\n",
    "pd.set_option('display.max_columns', None) # displays all columns in our dfs so we don't get the ... in the middle"
   ]
  },
  {
   "cell_type": "markdown",
   "id": "f4f75d45-32e6-4753-9d2c-617816783479",
   "metadata": {},
   "source": [
    "## Hello, data! Who are you?"
   ]
  },
  {
   "cell_type": "code",
   "execution_count": 106,
   "id": "7643349c-a9a7-41d8-9585-b363062f88f2",
   "metadata": {},
   "outputs": [
    {
     "name": "stdout",
     "output_type": "stream",
     "text": [
      "Number of observations (rows): 72986\n",
      "Number of features (columns): 32\n"
     ]
    },
    {
     "data": {
      "text/html": [
       "<div>\n",
       "<style scoped>\n",
       "    .dataframe tbody tr th:only-of-type {\n",
       "        vertical-align: middle;\n",
       "    }\n",
       "\n",
       "    .dataframe tbody tr th {\n",
       "        vertical-align: top;\n",
       "    }\n",
       "\n",
       "    .dataframe thead th {\n",
       "        text-align: right;\n",
       "    }\n",
       "</style>\n",
       "<table border=\"1\" class=\"dataframe\">\n",
       "  <thead>\n",
       "    <tr style=\"text-align: right;\">\n",
       "      <th></th>\n",
       "      <th>ID</th>\n",
       "      <th>Street</th>\n",
       "      <th>HouseNumber</th>\n",
       "      <th>Box</th>\n",
       "      <th>Floor</th>\n",
       "      <th>City</th>\n",
       "      <th>PostalCode</th>\n",
       "      <th>Region</th>\n",
       "      <th>District</th>\n",
       "      <th>Province</th>\n",
       "      <th>PropertyType</th>\n",
       "      <th>PropertySubType</th>\n",
       "      <th>Price</th>\n",
       "      <th>SaleType</th>\n",
       "      <th>ConstructionYear</th>\n",
       "      <th>BedroomCount</th>\n",
       "      <th>LivingArea</th>\n",
       "      <th>KitchenType</th>\n",
       "      <th>Furnished</th>\n",
       "      <th>Fireplace</th>\n",
       "      <th>Terrace</th>\n",
       "      <th>TerraceArea</th>\n",
       "      <th>Garden</th>\n",
       "      <th>GardenArea</th>\n",
       "      <th>Facades</th>\n",
       "      <th>SwimmingPool</th>\n",
       "      <th>Condition</th>\n",
       "      <th>EPCScore</th>\n",
       "      <th>Latitude</th>\n",
       "      <th>Longitude</th>\n",
       "      <th>PropertyUrl</th>\n",
       "      <th>Property url</th>\n",
       "    </tr>\n",
       "  </thead>\n",
       "  <tbody>\n",
       "    <tr>\n",
       "      <th>0</th>\n",
       "      <td>11161571</td>\n",
       "      <td>Zonstraat</td>\n",
       "      <td>1, V1</td>\n",
       "      <td>NaN</td>\n",
       "      <td>1.0</td>\n",
       "      <td>Lier</td>\n",
       "      <td>2500</td>\n",
       "      <td>FLANDERS</td>\n",
       "      <td>Mechelen</td>\n",
       "      <td>Antwerp</td>\n",
       "      <td>APARTMENT</td>\n",
       "      <td>APARTMENT</td>\n",
       "      <td>299000.0</td>\n",
       "      <td>residential_sale</td>\n",
       "      <td>1938.0</td>\n",
       "      <td>2</td>\n",
       "      <td>76.0</td>\n",
       "      <td>INSTALLED</td>\n",
       "      <td>NaN</td>\n",
       "      <td>1</td>\n",
       "      <td>1.0</td>\n",
       "      <td>17.0</td>\n",
       "      <td>1.0</td>\n",
       "      <td>NaN</td>\n",
       "      <td>2.0</td>\n",
       "      <td>NaN</td>\n",
       "      <td>JUST_RENOVATED</td>\n",
       "      <td>B</td>\n",
       "      <td>51.140213</td>\n",
       "      <td>4.562034</td>\n",
       "      <td>NaN</td>\n",
       "      <td>https://www.immoweb.be/en/classified/apartment...</td>\n",
       "    </tr>\n",
       "    <tr>\n",
       "      <th>1</th>\n",
       "      <td>11161295</td>\n",
       "      <td>Mechelsesteenweg</td>\n",
       "      <td>19</td>\n",
       "      <td>NaN</td>\n",
       "      <td>3.0</td>\n",
       "      <td>Antwerp</td>\n",
       "      <td>2018</td>\n",
       "      <td>FLANDERS</td>\n",
       "      <td>Antwerp</td>\n",
       "      <td>Antwerp</td>\n",
       "      <td>APARTMENT</td>\n",
       "      <td>TRIPLEX</td>\n",
       "      <td>649000.0</td>\n",
       "      <td>residential_sale</td>\n",
       "      <td>1929.0</td>\n",
       "      <td>3</td>\n",
       "      <td>222.0</td>\n",
       "      <td>USA_HYPER_EQUIPPED</td>\n",
       "      <td>NaN</td>\n",
       "      <td>1</td>\n",
       "      <td>1.0</td>\n",
       "      <td>7.0</td>\n",
       "      <td>NaN</td>\n",
       "      <td>NaN</td>\n",
       "      <td>2.0</td>\n",
       "      <td>NaN</td>\n",
       "      <td>GOOD</td>\n",
       "      <td>B</td>\n",
       "      <td>51.210229</td>\n",
       "      <td>4.408275</td>\n",
       "      <td>NaN</td>\n",
       "      <td>https://www.immoweb.be/en/classified/triplex/f...</td>\n",
       "    </tr>\n",
       "    <tr>\n",
       "      <th>2</th>\n",
       "      <td>11156375</td>\n",
       "      <td>Harmoniestraat</td>\n",
       "      <td>34</td>\n",
       "      <td>4</td>\n",
       "      <td>4.0</td>\n",
       "      <td>ANTWERPEN 2018</td>\n",
       "      <td>2018</td>\n",
       "      <td>FLANDERS</td>\n",
       "      <td>Antwerp</td>\n",
       "      <td>Antwerp</td>\n",
       "      <td>APARTMENT</td>\n",
       "      <td>PENTHOUSE</td>\n",
       "      <td>285000.0</td>\n",
       "      <td>residential_sale</td>\n",
       "      <td>1974.0</td>\n",
       "      <td>2</td>\n",
       "      <td>96.0</td>\n",
       "      <td>INSTALLED</td>\n",
       "      <td>NaN</td>\n",
       "      <td>1</td>\n",
       "      <td>NaN</td>\n",
       "      <td>NaN</td>\n",
       "      <td>NaN</td>\n",
       "      <td>NaN</td>\n",
       "      <td>NaN</td>\n",
       "      <td>NaN</td>\n",
       "      <td>GOOD</td>\n",
       "      <td>F</td>\n",
       "      <td>51.202969</td>\n",
       "      <td>4.409758</td>\n",
       "      <td>NaN</td>\n",
       "      <td>https://www.immoweb.be/en/classified/penthouse...</td>\n",
       "    </tr>\n",
       "    <tr>\n",
       "      <th>3</th>\n",
       "      <td>11081531</td>\n",
       "      <td>Luitenant Lippenslaan</td>\n",
       "      <td>37</td>\n",
       "      <td>203</td>\n",
       "      <td>2.0</td>\n",
       "      <td>Antwerpen</td>\n",
       "      <td>2140</td>\n",
       "      <td>FLANDERS</td>\n",
       "      <td>Antwerp</td>\n",
       "      <td>Antwerp</td>\n",
       "      <td>APARTMENT</td>\n",
       "      <td>APARTMENT</td>\n",
       "      <td>234900.0</td>\n",
       "      <td>residential_sale</td>\n",
       "      <td>1972.0</td>\n",
       "      <td>2</td>\n",
       "      <td>96.0</td>\n",
       "      <td>INSTALLED</td>\n",
       "      <td>NaN</td>\n",
       "      <td>0</td>\n",
       "      <td>1.0</td>\n",
       "      <td>4.0</td>\n",
       "      <td>NaN</td>\n",
       "      <td>NaN</td>\n",
       "      <td>2.0</td>\n",
       "      <td>0.0</td>\n",
       "      <td>GOOD</td>\n",
       "      <td>C</td>\n",
       "      <td>51.209161</td>\n",
       "      <td>4.449845</td>\n",
       "      <td>NaN</td>\n",
       "      <td>https://www.immoweb.be/en/classified/apartment...</td>\n",
       "    </tr>\n",
       "    <tr>\n",
       "      <th>4</th>\n",
       "      <td>11147112</td>\n",
       "      <td>Potvlietlaan</td>\n",
       "      <td>1, 9</td>\n",
       "      <td>NaN</td>\n",
       "      <td>9.0</td>\n",
       "      <td>Berchem</td>\n",
       "      <td>2600</td>\n",
       "      <td>FLANDERS</td>\n",
       "      <td>Antwerp</td>\n",
       "      <td>Antwerp</td>\n",
       "      <td>APARTMENT</td>\n",
       "      <td>APARTMENT</td>\n",
       "      <td>189000.0</td>\n",
       "      <td>residential_sale</td>\n",
       "      <td>1976.0</td>\n",
       "      <td>2</td>\n",
       "      <td>90.0</td>\n",
       "      <td>SEMI_EQUIPPED</td>\n",
       "      <td>NaN</td>\n",
       "      <td>1</td>\n",
       "      <td>1.0</td>\n",
       "      <td>12.0</td>\n",
       "      <td>NaN</td>\n",
       "      <td>NaN</td>\n",
       "      <td>2.0</td>\n",
       "      <td>NaN</td>\n",
       "      <td>GOOD</td>\n",
       "      <td>C</td>\n",
       "      <td>51.204408</td>\n",
       "      <td>4.442760</td>\n",
       "      <td>NaN</td>\n",
       "      <td>https://www.immoweb.be/en/classified/apartment...</td>\n",
       "    </tr>\n",
       "  </tbody>\n",
       "</table>\n",
       "</div>"
      ],
      "text/plain": [
       "         ID                 Street HouseNumber  Box  Floor            City  \\\n",
       "0  11161571              Zonstraat       1, V1  NaN    1.0            Lier   \n",
       "1  11161295       Mechelsesteenweg          19  NaN    3.0         Antwerp   \n",
       "2  11156375         Harmoniestraat          34    4    4.0  ANTWERPEN 2018   \n",
       "3  11081531  Luitenant Lippenslaan          37  203    2.0       Antwerpen   \n",
       "4  11147112           Potvlietlaan        1, 9  NaN    9.0         Berchem   \n",
       "\n",
       "   PostalCode    Region  District Province PropertyType PropertySubType  \\\n",
       "0        2500  FLANDERS  Mechelen  Antwerp    APARTMENT       APARTMENT   \n",
       "1        2018  FLANDERS   Antwerp  Antwerp    APARTMENT         TRIPLEX   \n",
       "2        2018  FLANDERS   Antwerp  Antwerp    APARTMENT       PENTHOUSE   \n",
       "3        2140  FLANDERS   Antwerp  Antwerp    APARTMENT       APARTMENT   \n",
       "4        2600  FLANDERS   Antwerp  Antwerp    APARTMENT       APARTMENT   \n",
       "\n",
       "      Price          SaleType  ConstructionYear  BedroomCount  LivingArea  \\\n",
       "0  299000.0  residential_sale            1938.0             2        76.0   \n",
       "1  649000.0  residential_sale            1929.0             3       222.0   \n",
       "2  285000.0  residential_sale            1974.0             2        96.0   \n",
       "3  234900.0  residential_sale            1972.0             2        96.0   \n",
       "4  189000.0  residential_sale            1976.0             2        90.0   \n",
       "\n",
       "          KitchenType  Furnished  Fireplace  Terrace  TerraceArea  Garden  \\\n",
       "0           INSTALLED        NaN          1      1.0         17.0     1.0   \n",
       "1  USA_HYPER_EQUIPPED        NaN          1      1.0          7.0     NaN   \n",
       "2           INSTALLED        NaN          1      NaN          NaN     NaN   \n",
       "3           INSTALLED        NaN          0      1.0          4.0     NaN   \n",
       "4       SEMI_EQUIPPED        NaN          1      1.0         12.0     NaN   \n",
       "\n",
       "   GardenArea  Facades  SwimmingPool       Condition EPCScore   Latitude  \\\n",
       "0         NaN      2.0           NaN  JUST_RENOVATED        B  51.140213   \n",
       "1         NaN      2.0           NaN            GOOD        B  51.210229   \n",
       "2         NaN      NaN           NaN            GOOD        F  51.202969   \n",
       "3         NaN      2.0           0.0            GOOD        C  51.209161   \n",
       "4         NaN      2.0           NaN            GOOD        C  51.204408   \n",
       "\n",
       "   Longitude  PropertyUrl                                       Property url  \n",
       "0   4.562034          NaN  https://www.immoweb.be/en/classified/apartment...  \n",
       "1   4.408275          NaN  https://www.immoweb.be/en/classified/triplex/f...  \n",
       "2   4.409758          NaN  https://www.immoweb.be/en/classified/penthouse...  \n",
       "3   4.449845          NaN  https://www.immoweb.be/en/classified/apartment...  \n",
       "4   4.442760          NaN  https://www.immoweb.be/en/classified/apartment...  "
      ]
     },
     "execution_count": 106,
     "metadata": {},
     "output_type": "execute_result"
    }
   ],
   "source": [
    "# Let's load you up\n",
    "df = pd.read_csv('data/raw/dataset_2.csv')\n",
    "\n",
    "# What do you look like?\n",
    "print(\"Number of observations (rows):\", df.shape[0])\n",
    "print(\"Number of features (columns):\", df.shape[1])\n",
    "\n",
    "df.head(5)\n"
   ]
  },
  {
   "cell_type": "code",
   "execution_count": 107,
   "id": "a6ae2711",
   "metadata": {},
   "outputs": [
    {
     "data": {
      "text/plain": [
       "Index(['ID', 'Street', 'HouseNumber', 'Box', 'Floor', 'City', 'PostalCode',\n",
       "       'Region', 'District', 'Province', 'PropertyType', 'PropertySubType',\n",
       "       'Price', 'SaleType', 'ConstructionYear', 'BedroomCount', 'LivingArea',\n",
       "       'KitchenType', 'Furnished', 'Fireplace', 'Terrace', 'TerraceArea',\n",
       "       'Garden', 'GardenArea', 'Facades', 'SwimmingPool', 'Condition',\n",
       "       'EPCScore', 'Latitude', 'Longitude', 'PropertyUrl', 'Property url'],\n",
       "      dtype='object')"
      ]
     },
     "execution_count": 107,
     "metadata": {},
     "output_type": "execute_result"
    }
   ],
   "source": [
    "# Close up on columns\n",
    "df.columns"
   ]
  },
  {
   "cell_type": "code",
   "execution_count": 108,
   "id": "44429963",
   "metadata": {},
   "outputs": [
    {
     "data": {
      "text/plain": [
       "ID                    int64\n",
       "Street               object\n",
       "HouseNumber          object\n",
       "Box                  object\n",
       "Floor               float64\n",
       "City                 object\n",
       "PostalCode            int64\n",
       "Region               object\n",
       "District             object\n",
       "Province             object\n",
       "PropertyType         object\n",
       "PropertySubType      object\n",
       "Price               float64\n",
       "SaleType             object\n",
       "ConstructionYear    float64\n",
       "BedroomCount          int64\n",
       "LivingArea          float64\n",
       "KitchenType          object\n",
       "Furnished           float64\n",
       "Fireplace             int64\n",
       "Terrace             float64\n",
       "TerraceArea         float64\n",
       "Garden              float64\n",
       "GardenArea          float64\n",
       "Facades             float64\n",
       "SwimmingPool        float64\n",
       "Condition            object\n",
       "EPCScore             object\n",
       "Latitude            float64\n",
       "Longitude           float64\n",
       "PropertyUrl         float64\n",
       "Property url         object\n",
       "dtype: object"
      ]
     },
     "execution_count": 108,
     "metadata": {},
     "output_type": "execute_result"
    }
   ],
   "source": [
    "#Close up on your data types\n",
    "df.dtypes"
   ]
  },
  {
   "cell_type": "code",
   "execution_count": 109,
   "id": "deac256d",
   "metadata": {},
   "outputs": [
    {
     "data": {
      "text/html": [
       "<div>\n",
       "<style scoped>\n",
       "    .dataframe tbody tr th:only-of-type {\n",
       "        vertical-align: middle;\n",
       "    }\n",
       "\n",
       "    .dataframe tbody tr th {\n",
       "        vertical-align: top;\n",
       "    }\n",
       "\n",
       "    .dataframe thead th {\n",
       "        text-align: right;\n",
       "    }\n",
       "</style>\n",
       "<table border=\"1\" class=\"dataframe\">\n",
       "  <thead>\n",
       "    <tr style=\"text-align: right;\">\n",
       "      <th></th>\n",
       "      <th>ID</th>\n",
       "      <th>Floor</th>\n",
       "      <th>PostalCode</th>\n",
       "      <th>Price</th>\n",
       "      <th>ConstructionYear</th>\n",
       "      <th>BedroomCount</th>\n",
       "      <th>LivingArea</th>\n",
       "      <th>Furnished</th>\n",
       "      <th>Fireplace</th>\n",
       "      <th>Terrace</th>\n",
       "      <th>TerraceArea</th>\n",
       "      <th>Garden</th>\n",
       "      <th>GardenArea</th>\n",
       "      <th>Facades</th>\n",
       "      <th>SwimmingPool</th>\n",
       "      <th>Latitude</th>\n",
       "      <th>Longitude</th>\n",
       "      <th>PropertyUrl</th>\n",
       "    </tr>\n",
       "  </thead>\n",
       "  <tbody>\n",
       "    <tr>\n",
       "      <th>count</th>\n",
       "      <td>7.298600e+04</td>\n",
       "      <td>28479.000000</td>\n",
       "      <td>72986.000000</td>\n",
       "      <td>7.297600e+04</td>\n",
       "      <td>44106.000000</td>\n",
       "      <td>72986.000000</td>\n",
       "      <td>64094.000000</td>\n",
       "      <td>23791.000000</td>\n",
       "      <td>72986.000000</td>\n",
       "      <td>38526.0</td>\n",
       "      <td>24349.000000</td>\n",
       "      <td>16725.0</td>\n",
       "      <td>44476.000000</td>\n",
       "      <td>51584.000000</td>\n",
       "      <td>23747.000000</td>\n",
       "      <td>58979.000000</td>\n",
       "      <td>58979.000000</td>\n",
       "      <td>0.0</td>\n",
       "    </tr>\n",
       "    <tr>\n",
       "      <th>mean</th>\n",
       "      <td>1.095272e+07</td>\n",
       "      <td>3.856350</td>\n",
       "      <td>5232.468391</td>\n",
       "      <td>4.352740e+05</td>\n",
       "      <td>1978.782705</td>\n",
       "      <td>2.941249</td>\n",
       "      <td>179.424517</td>\n",
       "      <td>0.068093</td>\n",
       "      <td>0.151741</td>\n",
       "      <td>1.0</td>\n",
       "      <td>25.685613</td>\n",
       "      <td>1.0</td>\n",
       "      <td>1255.710675</td>\n",
       "      <td>2.821708</td>\n",
       "      <td>0.063461</td>\n",
       "      <td>50.899529</td>\n",
       "      <td>4.291718</td>\n",
       "      <td>NaN</td>\n",
       "    </tr>\n",
       "    <tr>\n",
       "      <th>std</th>\n",
       "      <td>3.053627e+05</td>\n",
       "      <td>249.407999</td>\n",
       "      <td>3038.034459</td>\n",
       "      <td>4.940588e+05</td>\n",
       "      <td>77.594684</td>\n",
       "      <td>2.168374</td>\n",
       "      <td>438.705650</td>\n",
       "      <td>0.251911</td>\n",
       "      <td>0.358773</td>\n",
       "      <td>0.0</td>\n",
       "      <td>68.217842</td>\n",
       "      <td>0.0</td>\n",
       "      <td>10160.953918</td>\n",
       "      <td>0.896363</td>\n",
       "      <td>0.243795</td>\n",
       "      <td>0.347595</td>\n",
       "      <td>0.941878</td>\n",
       "      <td>NaN</td>\n",
       "    </tr>\n",
       "    <tr>\n",
       "      <th>min</th>\n",
       "      <td>1.882546e+06</td>\n",
       "      <td>0.000000</td>\n",
       "      <td>1000.000000</td>\n",
       "      <td>1.000000e+00</td>\n",
       "      <td>1753.000000</td>\n",
       "      <td>0.000000</td>\n",
       "      <td>3.000000</td>\n",
       "      <td>0.000000</td>\n",
       "      <td>0.000000</td>\n",
       "      <td>1.0</td>\n",
       "      <td>1.000000</td>\n",
       "      <td>1.0</td>\n",
       "      <td>0.000000</td>\n",
       "      <td>1.000000</td>\n",
       "      <td>0.000000</td>\n",
       "      <td>25.761680</td>\n",
       "      <td>-80.191790</td>\n",
       "      <td>NaN</td>\n",
       "    </tr>\n",
       "    <tr>\n",
       "      <th>25%</th>\n",
       "      <td>1.090042e+07</td>\n",
       "      <td>0.000000</td>\n",
       "      <td>2300.000000</td>\n",
       "      <td>2.290000e+05</td>\n",
       "      <td>1958.000000</td>\n",
       "      <td>2.000000</td>\n",
       "      <td>95.000000</td>\n",
       "      <td>0.000000</td>\n",
       "      <td>0.000000</td>\n",
       "      <td>1.0</td>\n",
       "      <td>9.000000</td>\n",
       "      <td>1.0</td>\n",
       "      <td>150.000000</td>\n",
       "      <td>2.000000</td>\n",
       "      <td>0.000000</td>\n",
       "      <td>50.741284</td>\n",
       "      <td>3.717900</td>\n",
       "      <td>NaN</td>\n",
       "    </tr>\n",
       "    <tr>\n",
       "      <th>50%</th>\n",
       "      <td>1.105079e+07</td>\n",
       "      <td>1.000000</td>\n",
       "      <td>4800.000000</td>\n",
       "      <td>3.250000e+05</td>\n",
       "      <td>1980.000000</td>\n",
       "      <td>3.000000</td>\n",
       "      <td>141.000000</td>\n",
       "      <td>0.000000</td>\n",
       "      <td>0.000000</td>\n",
       "      <td>1.0</td>\n",
       "      <td>16.000000</td>\n",
       "      <td>1.0</td>\n",
       "      <td>379.000000</td>\n",
       "      <td>3.000000</td>\n",
       "      <td>0.000000</td>\n",
       "      <td>50.923098</td>\n",
       "      <td>4.366239</td>\n",
       "      <td>NaN</td>\n",
       "    </tr>\n",
       "    <tr>\n",
       "      <th>75%</th>\n",
       "      <td>1.112687e+07</td>\n",
       "      <td>3.000000</td>\n",
       "      <td>8400.000000</td>\n",
       "      <td>4.750000e+05</td>\n",
       "      <td>2017.000000</td>\n",
       "      <td>4.000000</td>\n",
       "      <td>200.000000</td>\n",
       "      <td>0.000000</td>\n",
       "      <td>0.000000</td>\n",
       "      <td>1.0</td>\n",
       "      <td>30.000000</td>\n",
       "      <td>1.0</td>\n",
       "      <td>863.000000</td>\n",
       "      <td>4.000000</td>\n",
       "      <td>0.000000</td>\n",
       "      <td>51.154387</td>\n",
       "      <td>4.795766</td>\n",
       "      <td>NaN</td>\n",
       "    </tr>\n",
       "    <tr>\n",
       "      <th>max</th>\n",
       "      <td>1.117641e+07</td>\n",
       "      <td>41995.000000</td>\n",
       "      <td>9992.000000</td>\n",
       "      <td>2.250000e+07</td>\n",
       "      <td>9999.000000</td>\n",
       "      <td>200.000000</td>\n",
       "      <td>88140.000000</td>\n",
       "      <td>1.000000</td>\n",
       "      <td>1.000000</td>\n",
       "      <td>1.0</td>\n",
       "      <td>6550.000000</td>\n",
       "      <td>1.0</td>\n",
       "      <td>950774.000000</td>\n",
       "      <td>47.000000</td>\n",
       "      <td>1.000000</td>\n",
       "      <td>52.434244</td>\n",
       "      <td>6.385048</td>\n",
       "      <td>NaN</td>\n",
       "    </tr>\n",
       "  </tbody>\n",
       "</table>\n",
       "</div>"
      ],
      "text/plain": [
       "                 ID         Floor    PostalCode         Price  \\\n",
       "count  7.298600e+04  28479.000000  72986.000000  7.297600e+04   \n",
       "mean   1.095272e+07      3.856350   5232.468391  4.352740e+05   \n",
       "std    3.053627e+05    249.407999   3038.034459  4.940588e+05   \n",
       "min    1.882546e+06      0.000000   1000.000000  1.000000e+00   \n",
       "25%    1.090042e+07      0.000000   2300.000000  2.290000e+05   \n",
       "50%    1.105079e+07      1.000000   4800.000000  3.250000e+05   \n",
       "75%    1.112687e+07      3.000000   8400.000000  4.750000e+05   \n",
       "max    1.117641e+07  41995.000000   9992.000000  2.250000e+07   \n",
       "\n",
       "       ConstructionYear  BedroomCount    LivingArea     Furnished  \\\n",
       "count      44106.000000  72986.000000  64094.000000  23791.000000   \n",
       "mean        1978.782705      2.941249    179.424517      0.068093   \n",
       "std           77.594684      2.168374    438.705650      0.251911   \n",
       "min         1753.000000      0.000000      3.000000      0.000000   \n",
       "25%         1958.000000      2.000000     95.000000      0.000000   \n",
       "50%         1980.000000      3.000000    141.000000      0.000000   \n",
       "75%         2017.000000      4.000000    200.000000      0.000000   \n",
       "max         9999.000000    200.000000  88140.000000      1.000000   \n",
       "\n",
       "          Fireplace  Terrace   TerraceArea   Garden     GardenArea  \\\n",
       "count  72986.000000  38526.0  24349.000000  16725.0   44476.000000   \n",
       "mean       0.151741      1.0     25.685613      1.0    1255.710675   \n",
       "std        0.358773      0.0     68.217842      0.0   10160.953918   \n",
       "min        0.000000      1.0      1.000000      1.0       0.000000   \n",
       "25%        0.000000      1.0      9.000000      1.0     150.000000   \n",
       "50%        0.000000      1.0     16.000000      1.0     379.000000   \n",
       "75%        0.000000      1.0     30.000000      1.0     863.000000   \n",
       "max        1.000000      1.0   6550.000000      1.0  950774.000000   \n",
       "\n",
       "            Facades  SwimmingPool      Latitude     Longitude  PropertyUrl  \n",
       "count  51584.000000  23747.000000  58979.000000  58979.000000          0.0  \n",
       "mean       2.821708      0.063461     50.899529      4.291718          NaN  \n",
       "std        0.896363      0.243795      0.347595      0.941878          NaN  \n",
       "min        1.000000      0.000000     25.761680    -80.191790          NaN  \n",
       "25%        2.000000      0.000000     50.741284      3.717900          NaN  \n",
       "50%        3.000000      0.000000     50.923098      4.366239          NaN  \n",
       "75%        4.000000      0.000000     51.154387      4.795766          NaN  \n",
       "max       47.000000      1.000000     52.434244      6.385048          NaN  "
      ]
     },
     "execution_count": 109,
     "metadata": {},
     "output_type": "execute_result"
    }
   ],
   "source": [
    "# # What's your story?\n",
    "df.describe()"
   ]
  },
  {
   "cell_type": "markdown",
   "id": "5bf52a98",
   "metadata": {},
   "source": [
    "# Cleanup\n",
    "\n",
    "## Okay data, let's clean you up!\n",
    "\n",
    "- subsetting: drop **unequivocally** irrelevant columns (e.g. \"ID\" cols)\n",
    "- drop duplicate / redundant columns (e.g. cols that may have same values under a different name, or have string versins & numeric versions)\n",
    "- drop duplicate rows\n",
    "- rename columns to consistent naming convention\n",
    "- identify and handle outliers\n",
    "- ..\n",
    "- come back to add more here, as I figure things out"
   ]
  },
  {
   "cell_type": "markdown",
   "id": "ca1488d8",
   "metadata": {},
   "source": [
    "### Cleanup #01 - feature selection"
   ]
  },
  {
   "cell_type": "code",
   "execution_count": 110,
   "id": "72235525",
   "metadata": {},
   "outputs": [],
   "source": [
    "#print columns again\n",
    "#df.columns\n",
    "\n",
    "# VERSION 1 of subsetting:\n",
    "# --------copy the columns here & elect only the columns I want to keep, comment the others out\n",
    "\n",
    "df = df[[#'ID', 'Street',\n",
    "    #'HouseNumber', 'Box', 'Floor',\n",
    "    'City', 'PostalCode', 'Region', 'District', 'Province',\n",
    "    'PropertyType', 'PropertySubType',\n",
    "       'Price',\n",
    "    # 'SaleType', 'ConstructionYear',\n",
    "    'BedroomCount', 'LivingArea',\n",
    "       'KitchenType',\n",
    "    # 'Furnished', 'Fireplace',\n",
    "    'Terrace',\n",
    "    #'TerraceArea',\n",
    "    'Garden',\n",
    "    #'GardenArea',\n",
    "       'Facades',\n",
    "    'SwimmingPool',\n",
    "    #'Condition',\n",
    "    #  'EPCScore',\n",
    "    # 'Latitude', 'Longitude',\n",
    "       # 'PropertyUrl', 'Property url'\n",
    "    ]].copy()\n",
    "\n",
    "# use .copy() to make sure you rewrite the df and not juts reference the old df\n"
   ]
  },
  {
   "cell_type": "code",
   "execution_count": 111,
   "id": "3478e4d1",
   "metadata": {},
   "outputs": [
    {
     "data": {
      "text/html": [
       "<div>\n",
       "<style scoped>\n",
       "    .dataframe tbody tr th:only-of-type {\n",
       "        vertical-align: middle;\n",
       "    }\n",
       "\n",
       "    .dataframe tbody tr th {\n",
       "        vertical-align: top;\n",
       "    }\n",
       "\n",
       "    .dataframe thead th {\n",
       "        text-align: right;\n",
       "    }\n",
       "</style>\n",
       "<table border=\"1\" class=\"dataframe\">\n",
       "  <thead>\n",
       "    <tr style=\"text-align: right;\">\n",
       "      <th></th>\n",
       "      <th>City</th>\n",
       "      <th>PostalCode</th>\n",
       "      <th>Region</th>\n",
       "      <th>District</th>\n",
       "      <th>Province</th>\n",
       "      <th>PropertyType</th>\n",
       "      <th>PropertySubType</th>\n",
       "      <th>Price</th>\n",
       "      <th>BedroomCount</th>\n",
       "      <th>LivingArea</th>\n",
       "      <th>KitchenType</th>\n",
       "      <th>Terrace</th>\n",
       "      <th>Garden</th>\n",
       "      <th>Facades</th>\n",
       "      <th>SwimmingPool</th>\n",
       "    </tr>\n",
       "  </thead>\n",
       "  <tbody>\n",
       "    <tr>\n",
       "      <th>0</th>\n",
       "      <td>Lier</td>\n",
       "      <td>2500</td>\n",
       "      <td>FLANDERS</td>\n",
       "      <td>Mechelen</td>\n",
       "      <td>Antwerp</td>\n",
       "      <td>APARTMENT</td>\n",
       "      <td>APARTMENT</td>\n",
       "      <td>299000.0</td>\n",
       "      <td>2</td>\n",
       "      <td>76.0</td>\n",
       "      <td>INSTALLED</td>\n",
       "      <td>1.0</td>\n",
       "      <td>1.0</td>\n",
       "      <td>2.0</td>\n",
       "      <td>NaN</td>\n",
       "    </tr>\n",
       "    <tr>\n",
       "      <th>1</th>\n",
       "      <td>Antwerp</td>\n",
       "      <td>2018</td>\n",
       "      <td>FLANDERS</td>\n",
       "      <td>Antwerp</td>\n",
       "      <td>Antwerp</td>\n",
       "      <td>APARTMENT</td>\n",
       "      <td>TRIPLEX</td>\n",
       "      <td>649000.0</td>\n",
       "      <td>3</td>\n",
       "      <td>222.0</td>\n",
       "      <td>USA_HYPER_EQUIPPED</td>\n",
       "      <td>1.0</td>\n",
       "      <td>NaN</td>\n",
       "      <td>2.0</td>\n",
       "      <td>NaN</td>\n",
       "    </tr>\n",
       "    <tr>\n",
       "      <th>2</th>\n",
       "      <td>ANTWERPEN 2018</td>\n",
       "      <td>2018</td>\n",
       "      <td>FLANDERS</td>\n",
       "      <td>Antwerp</td>\n",
       "      <td>Antwerp</td>\n",
       "      <td>APARTMENT</td>\n",
       "      <td>PENTHOUSE</td>\n",
       "      <td>285000.0</td>\n",
       "      <td>2</td>\n",
       "      <td>96.0</td>\n",
       "      <td>INSTALLED</td>\n",
       "      <td>NaN</td>\n",
       "      <td>NaN</td>\n",
       "      <td>NaN</td>\n",
       "      <td>NaN</td>\n",
       "    </tr>\n",
       "    <tr>\n",
       "      <th>3</th>\n",
       "      <td>Antwerpen</td>\n",
       "      <td>2140</td>\n",
       "      <td>FLANDERS</td>\n",
       "      <td>Antwerp</td>\n",
       "      <td>Antwerp</td>\n",
       "      <td>APARTMENT</td>\n",
       "      <td>APARTMENT</td>\n",
       "      <td>234900.0</td>\n",
       "      <td>2</td>\n",
       "      <td>96.0</td>\n",
       "      <td>INSTALLED</td>\n",
       "      <td>1.0</td>\n",
       "      <td>NaN</td>\n",
       "      <td>2.0</td>\n",
       "      <td>0.0</td>\n",
       "    </tr>\n",
       "    <tr>\n",
       "      <th>4</th>\n",
       "      <td>Berchem</td>\n",
       "      <td>2600</td>\n",
       "      <td>FLANDERS</td>\n",
       "      <td>Antwerp</td>\n",
       "      <td>Antwerp</td>\n",
       "      <td>APARTMENT</td>\n",
       "      <td>APARTMENT</td>\n",
       "      <td>189000.0</td>\n",
       "      <td>2</td>\n",
       "      <td>90.0</td>\n",
       "      <td>SEMI_EQUIPPED</td>\n",
       "      <td>1.0</td>\n",
       "      <td>NaN</td>\n",
       "      <td>2.0</td>\n",
       "      <td>NaN</td>\n",
       "    </tr>\n",
       "  </tbody>\n",
       "</table>\n",
       "</div>"
      ],
      "text/plain": [
       "             City  PostalCode    Region  District Province PropertyType  \\\n",
       "0            Lier        2500  FLANDERS  Mechelen  Antwerp    APARTMENT   \n",
       "1         Antwerp        2018  FLANDERS   Antwerp  Antwerp    APARTMENT   \n",
       "2  ANTWERPEN 2018        2018  FLANDERS   Antwerp  Antwerp    APARTMENT   \n",
       "3       Antwerpen        2140  FLANDERS   Antwerp  Antwerp    APARTMENT   \n",
       "4         Berchem        2600  FLANDERS   Antwerp  Antwerp    APARTMENT   \n",
       "\n",
       "  PropertySubType     Price  BedroomCount  LivingArea         KitchenType  \\\n",
       "0       APARTMENT  299000.0             2        76.0           INSTALLED   \n",
       "1         TRIPLEX  649000.0             3       222.0  USA_HYPER_EQUIPPED   \n",
       "2       PENTHOUSE  285000.0             2        96.0           INSTALLED   \n",
       "3       APARTMENT  234900.0             2        96.0           INSTALLED   \n",
       "4       APARTMENT  189000.0             2        90.0       SEMI_EQUIPPED   \n",
       "\n",
       "   Terrace  Garden  Facades  SwimmingPool  \n",
       "0      1.0     1.0      2.0           NaN  \n",
       "1      1.0     NaN      2.0           NaN  \n",
       "2      NaN     NaN      NaN           NaN  \n",
       "3      1.0     NaN      2.0           0.0  \n",
       "4      1.0     NaN      2.0           NaN  "
      ]
     },
     "execution_count": 111,
     "metadata": {},
     "output_type": "execute_result"
    }
   ],
   "source": [
    "# Check shape after subsetting\n",
    "df.shape\n",
    "df.head(5)"
   ]
  },
  {
   "cell_type": "code",
   "execution_count": 112,
   "id": "5f0f0303",
   "metadata": {},
   "outputs": [],
   "source": [
    "# VERSION 2 of subsetting:\n",
    "#------------------------use drop() to drop the columns I don't want to keep, e.g:\n",
    "#df = df.drop([\"PostalCode\", \"EPCScore\"], axis=1).copy()"
   ]
  },
  {
   "cell_type": "markdown",
   "id": "35748ddb",
   "metadata": {},
   "source": [
    "### Cleanup #02 - duplicates"
   ]
  },
  {
   "cell_type": "code",
   "execution_count": 113,
   "id": "45621570",
   "metadata": {},
   "outputs": [],
   "source": [
    "# Check for duplicate rows\n",
    "# print(df.duplicated().sum()) # the second and subsequent rows that are duplicated\n",
    "\n",
    "# Check for duplicates for a particular feature\n",
    "# df.duplicated(subset=['LivingArea'])\n",
    "# df.loc[df.duplicated(subset=['LivingArea'])].head(5)\n"
   ]
  },
  {
   "cell_type": "markdown",
   "id": "c7431e29",
   "metadata": {},
   "source": [
    "### Cleanup #03 - dtypes"
   ]
  },
  {
   "cell_type": "code",
   "execution_count": 114,
   "id": "040b9cfd",
   "metadata": {},
   "outputs": [],
   "source": [
    "#Example of transformations if needed\n",
    "\n",
    "# to numeric\n",
    "#df['ConstructionYear'] = pd.to_numeric(df['ConstructionYear'], errors='coerce')\n",
    "\n",
    "# to datetime\n",
    "##df['ConstructionYear'] = pd.to_datetime(df['ConstructionYear'], errors='coerce')"
   ]
  },
  {
   "cell_type": "markdown",
   "id": "2725505b",
   "metadata": {},
   "source": [
    "### Cleanup #04 - rename columns\n",
    "- check for consistency in:\n",
    "  - naming convention\n",
    "  - capitalization\n",
    "  - abbreviations\n",
    "  - etc.\n",
    "- check for missing spaces or extra spaces"
   ]
  },
  {
   "cell_type": "code",
   "execution_count": 115,
   "id": "d24b0557",
   "metadata": {},
   "outputs": [
    {
     "data": {
      "text/plain": [
       "Index(['City', 'PostalCode', 'Region', 'District', 'Province', 'PropertyType',\n",
       "       'PropertySubType', 'Price', 'BedroomCount', 'LivingArea', 'KitchenType',\n",
       "       'Terrace', 'Garden', 'Facades', 'SwimmingPool'],\n",
       "      dtype='object')"
      ]
     },
     "execution_count": 115,
     "metadata": {},
     "output_type": "execute_result"
    }
   ],
   "source": [
    "df.columns\n",
    "#df = df.rename({'city': 'City', 'district' : 'District'})"
   ]
  },
  {
   "cell_type": "code",
   "execution_count": 116,
   "id": "05780c8e",
   "metadata": {},
   "outputs": [
    {
     "data": {
      "text/plain": [
       "City                object\n",
       "PostalCode           int64\n",
       "Region              object\n",
       "District            object\n",
       "Province            object\n",
       "PropertyType        object\n",
       "PropertySubType     object\n",
       "Price              float64\n",
       "BedroomCount         int64\n",
       "LivingArea         float64\n",
       "KitchenType         object\n",
       "Terrace            float64\n",
       "Garden             float64\n",
       "Facades            float64\n",
       "SwimmingPool       float64\n",
       "dtype: object"
      ]
     },
     "execution_count": 116,
     "metadata": {},
     "output_type": "execute_result"
    }
   ],
   "source": [
    "df.dtypes"
   ]
  },
  {
   "cell_type": "markdown",
   "id": "f481e591",
   "metadata": {},
   "source": [
    "### Cleanup #5 - missing values"
   ]
  },
  {
   "cell_type": "code",
   "execution_count": 117,
   "id": "d896df29",
   "metadata": {},
   "outputs": [
    {
     "data": {
      "text/plain": [
       "City                   0\n",
       "PostalCode             0\n",
       "Region                 0\n",
       "District               0\n",
       "Province               0\n",
       "PropertyType           0\n",
       "PropertySubType        0\n",
       "Price                 10\n",
       "BedroomCount           0\n",
       "LivingArea          8892\n",
       "KitchenType        30900\n",
       "Terrace            34460\n",
       "Garden             56261\n",
       "Facades            21402\n",
       "SwimmingPool       49239\n",
       "dtype: int64"
      ]
     },
     "execution_count": 117,
     "metadata": {},
     "output_type": "execute_result"
    }
   ],
   "source": [
    "# Check for missing values\n",
    "df.isna().sum()"
   ]
  },
  {
   "cell_type": "markdown",
   "id": "dc525602-a3e8-49c7-9170-c987abb647cc",
   "metadata": {},
   "source": [
    "### missing values - what's the proportion per column?"
   ]
  },
  {
   "cell_type": "code",
   "execution_count": 118,
   "id": "017ae9cd-a7a1-4cdd-91d2-ffd1b72668eb",
   "metadata": {},
   "outputs": [
    {
     "name": "stdout",
     "output_type": "stream",
     "text": [
      "Number of columns with a proportion of missing values over 60%: 2\n",
      "Columns with proportion of missing values over 60% and their proportion of missing values (desc):\n",
      " Garden          0.770846\n",
      "SwimmingPool    0.674636\n",
      "dtype: float64\n"
     ]
    }
   ],
   "source": [
    "# Question 2: What is the proportion of missing values per column?\n",
    "#print(\"Proportion of missing values per column:\\n\", df.isnull().mean())\n",
    "\n",
    "# The proportion of missing values per column in descending order\n",
    "#print(\"Proportion of missing values per column (desc):\\n\",df.isnull().mean().sort_values(ascending=False))\n",
    "\n",
    "# How many columns have a proportion of missing values over 60%?\n",
    "print(\"Number of columns with a proportion of missing values over 60%:\", (df.isnull().mean() > 0.6).sum())\n",
    "\n",
    "# Display column names with proportion of missing values over 50% and the proportion of missing values in descending order\n",
    "print(\"Columns with proportion of missing values over 60% and their proportion of missing values (desc):\\n\", df.isnull().mean()[df.isnull().mean() > 0.6].sort_values(ascending=False))\n"
   ]
  },
  {
   "cell_type": "markdown",
   "id": "fa05b538-a948-4986-aeef-58800ad61225",
   "metadata": {},
   "source": [
    "### missing values - identify & drop columns with more than 50% missing values \n",
    ".. or some other percentage, or none at all. it all depends"
   ]
  },
  {
   "cell_type": "code",
   "execution_count": 119,
   "id": "c7639693-864d-44ed-9401-053966471faa",
   "metadata": {},
   "outputs": [
    {
     "name": "stdout",
     "output_type": "stream",
     "text": [
      "Shape of data after removing columns with >50% missing values: (72986, 13)\n"
     ]
    }
   ],
   "source": [
    "# Identify columns with more than 50% missing values\n",
    "columns_to_drop = df.columns[df.isnull().mean() > 0.5]\n",
    "\n",
    "# Drop columns with over 60% missing values from the DataFrame and create a copy of the DataFrame with the remaining columns\n",
    "df = df.drop(columns=columns_to_drop).copy()\n",
    "\n",
    "# # Save the cleaned DataFrame to a new CSV file\n",
    "# df.to_csv('data/cleaned/cleaned_missing_vals.csv', index=False)\n",
    "\n",
    "# Optionally, print out the shape of the new DataFrame to confirm the changes\n",
    "print(\"Shape of data after removing columns with >50% missing values:\", df.shape)\n"
   ]
  },
  {
   "cell_type": "markdown",
   "id": "a7d47e10",
   "metadata": {},
   "source": [
    "### Outliers - identify & handle"
   ]
  },
  {
   "cell_type": "code",
   "execution_count": 120,
   "id": "151e2399",
   "metadata": {},
   "outputs": [
    {
     "data": {
      "image/png": "[encoded data removed]",
      "text/plain": [
       "<Figure size 640x480 with 1 Axes>"
      ]
     },
     "metadata": {},
     "output_type": "display_data"
    }
   ],
   "source": [
    "# outliers for LivingArea\n",
    "sns.boxplot(x=df['LivingArea'])\n",
    "plt.show()"
   ]
  },
  {
   "cell_type": "code",
   "execution_count": 121,
   "id": "6d5512ea",
   "metadata": {},
   "outputs": [
    {
     "name": "stdout",
     "output_type": "stream",
     "text": [
      "Number of rows with LivingArea > 2000: 60\n"
     ]
    }
   ],
   "source": [
    "print(\"Number of rows with LivingArea > 2000:\", df.loc[df['LivingArea'] > 2000].shape[0])\n",
    "# print(df.loc[df['LivingArea'] > 10000])"
   ]
  },
  {
   "cell_type": "code",
   "execution_count": 122,
   "id": "472602e9",
   "metadata": {},
   "outputs": [],
   "source": [
    "# remove the rows with LivingArea > 10000\n",
    "df = df.loc[df['LivingArea'] <= 2000].copy()"
   ]
  },
  {
   "cell_type": "code",
   "execution_count": 123,
   "id": "cb8017d3",
   "metadata": {},
   "outputs": [
    {
     "data": {
      "image/png": "[encoded data removed]",
      "text/plain": [
       "<Figure size 640x480 with 1 Axes>"
      ]
     },
     "metadata": {},
     "output_type": "display_data"
    }
   ],
   "source": [
    "# check LivingArea after removing outliers\n",
    "sns.boxplot(x=df['LivingArea'])\n",
    "plt.show()"
   ]
  },
  {
   "cell_type": "code",
   "execution_count": 124,
   "id": "64f0b3ac",
   "metadata": {},
   "outputs": [
    {
     "name": "stdout",
     "output_type": "stream",
     "text": [
      "Number of rows with LivingArea > 500: 2925\n"
     ]
    }
   ],
   "source": [
    "print(\"Number of rows with LivingArea > 500:\", df.loc[df['LivingArea'] > 400].shape[0])"
   ]
  },
  {
   "cell_type": "code",
   "execution_count": 125,
   "id": "bafbda83",
   "metadata": {},
   "outputs": [],
   "source": [
    "# remove all rows with LivingArea over 500m2 (this is about 3000 entires, so 4% of our data)\n",
    "df = df.loc[df['LivingArea'] <= 400].copy()"
   ]
  },
  {
   "cell_type": "code",
   "execution_count": 126,
   "id": "e6175629",
   "metadata": {},
   "outputs": [
    {
     "data": {
      "image/png": "[encoded data removed]",
      "text/plain": [
       "<Figure size 640x480 with 1 Axes>"
      ]
     },
     "metadata": {},
     "output_type": "display_data"
    }
   ],
   "source": [
    "# check LivingArea after removing outliers\n",
    "sns.boxplot(x=df['LivingArea'])\n",
    "plt.show()"
   ]
  },
  {
   "cell_type": "code",
   "execution_count": 127,
   "id": "6aef82c1",
   "metadata": {},
   "outputs": [
    {
     "name": "stdout",
     "output_type": "stream",
     "text": [
      "Number of rows with LivingArea > 350: 2071\n"
     ]
    }
   ],
   "source": [
    "print(\"Number of rows with LivingArea > 350:\", df.loc[df['LivingArea'] > 325].shape[0])"
   ]
  },
  {
   "cell_type": "markdown",
   "id": "69b379f5",
   "metadata": {},
   "source": [
    "# Univariate Analysis\n",
    "\n",
    "## Okay Data, let's explore! \n",
    "\n",
    "- aka _feature understanding_\n",
    "- we look at each feature separately (or at the most interesting ones)\n",
    "- to understand their distribution, and to identify any outliers\n",
    "\n",
    "For **categorical features**:\n",
    "\n",
    "  - frequency tables (counts & percentages)\n",
    "  - bar plots (most common, can cap number of categ to display if too many)\n",
    "  - line charts (better for ordinal variables, variables with many categories)\n",
    "  - histograms (better for ordinal variables, interval variables without skewness)\n",
    "\n",
    "For **numerical features**:\n",
    "- for discrete numerical:\n",
    "  - bar plots\n",
    "  - spider plots\n",
    "\n",
    "- for continuous numerical:\n",
    "  - histogram\n",
    "  - line chart\n"
   ]
  },
  {
   "cell_type": "code",
   "execution_count": 128,
   "id": "99e6472b",
   "metadata": {},
   "outputs": [
    {
     "data": {
      "text/plain": [
       "Index(['City', 'PostalCode', 'Region', 'District', 'Province', 'PropertyType',\n",
       "       'PropertySubType', 'Price', 'BedroomCount', 'LivingArea', 'KitchenType',\n",
       "       'Terrace', 'Facades'],\n",
       "      dtype='object')"
      ]
     },
     "execution_count": 128,
     "metadata": {},
     "output_type": "execute_result"
    }
   ],
   "source": [
    "df.columns"
   ]
  },
  {
   "cell_type": "code",
   "execution_count": 129,
   "id": "e06af3f6",
   "metadata": {},
   "outputs": [
    {
     "data": {
      "text/html": [
       "<div>\n",
       "<style scoped>\n",
       "    .dataframe tbody tr th:only-of-type {\n",
       "        vertical-align: middle;\n",
       "    }\n",
       "\n",
       "    .dataframe tbody tr th {\n",
       "        vertical-align: top;\n",
       "    }\n",
       "\n",
       "    .dataframe thead th {\n",
       "        text-align: right;\n",
       "    }\n",
       "</style>\n",
       "<table border=\"1\" class=\"dataframe\">\n",
       "  <thead>\n",
       "    <tr style=\"text-align: right;\">\n",
       "      <th></th>\n",
       "      <th>City</th>\n",
       "      <th>PostalCode</th>\n",
       "      <th>Region</th>\n",
       "      <th>District</th>\n",
       "      <th>Province</th>\n",
       "      <th>PropertyType</th>\n",
       "      <th>PropertySubType</th>\n",
       "      <th>Price</th>\n",
       "      <th>BedroomCount</th>\n",
       "      <th>LivingArea</th>\n",
       "      <th>KitchenType</th>\n",
       "      <th>Terrace</th>\n",
       "      <th>Facades</th>\n",
       "    </tr>\n",
       "  </thead>\n",
       "  <tbody>\n",
       "    <tr>\n",
       "      <th>0</th>\n",
       "      <td>Lier</td>\n",
       "      <td>2500</td>\n",
       "      <td>FLANDERS</td>\n",
       "      <td>Mechelen</td>\n",
       "      <td>Antwerp</td>\n",
       "      <td>APARTMENT</td>\n",
       "      <td>APARTMENT</td>\n",
       "      <td>299000.0</td>\n",
       "      <td>2</td>\n",
       "      <td>76.0</td>\n",
       "      <td>INSTALLED</td>\n",
       "      <td>1.0</td>\n",
       "      <td>2.0</td>\n",
       "    </tr>\n",
       "    <tr>\n",
       "      <th>1</th>\n",
       "      <td>Antwerp</td>\n",
       "      <td>2018</td>\n",
       "      <td>FLANDERS</td>\n",
       "      <td>Antwerp</td>\n",
       "      <td>Antwerp</td>\n",
       "      <td>APARTMENT</td>\n",
       "      <td>TRIPLEX</td>\n",
       "      <td>649000.0</td>\n",
       "      <td>3</td>\n",
       "      <td>222.0</td>\n",
       "      <td>USA_HYPER_EQUIPPED</td>\n",
       "      <td>1.0</td>\n",
       "      <td>2.0</td>\n",
       "    </tr>\n",
       "    <tr>\n",
       "      <th>2</th>\n",
       "      <td>ANTWERPEN 2018</td>\n",
       "      <td>2018</td>\n",
       "      <td>FLANDERS</td>\n",
       "      <td>Antwerp</td>\n",
       "      <td>Antwerp</td>\n",
       "      <td>APARTMENT</td>\n",
       "      <td>PENTHOUSE</td>\n",
       "      <td>285000.0</td>\n",
       "      <td>2</td>\n",
       "      <td>96.0</td>\n",
       "      <td>INSTALLED</td>\n",
       "      <td>NaN</td>\n",
       "      <td>NaN</td>\n",
       "    </tr>\n",
       "  </tbody>\n",
       "</table>\n",
       "</div>"
      ],
      "text/plain": [
       "             City  PostalCode    Region  District Province PropertyType  \\\n",
       "0            Lier        2500  FLANDERS  Mechelen  Antwerp    APARTMENT   \n",
       "1         Antwerp        2018  FLANDERS   Antwerp  Antwerp    APARTMENT   \n",
       "2  ANTWERPEN 2018        2018  FLANDERS   Antwerp  Antwerp    APARTMENT   \n",
       "\n",
       "  PropertySubType     Price  BedroomCount  LivingArea         KitchenType  \\\n",
       "0       APARTMENT  299000.0             2        76.0           INSTALLED   \n",
       "1         TRIPLEX  649000.0             3       222.0  USA_HYPER_EQUIPPED   \n",
       "2       PENTHOUSE  285000.0             2        96.0           INSTALLED   \n",
       "\n",
       "   Terrace  Facades  \n",
       "0      1.0      2.0  \n",
       "1      1.0      2.0  \n",
       "2      NaN      NaN  "
      ]
     },
     "execution_count": 129,
     "metadata": {},
     "output_type": "execute_result"
    }
   ],
   "source": [
    "df.head(3)"
   ]
  },
  {
   "cell_type": "markdown",
   "id": "0d796729",
   "metadata": {},
   "source": [
    "### Feature: **Price**"
   ]
  },
  {
   "cell_type": "code",
   "execution_count": 130,
   "id": "20cc87b9",
   "metadata": {},
   "outputs": [
    {
     "name": "stdout",
     "output_type": "stream",
     "text": [
      "Min Price: 1.0\n",
      "Max Price: 7850000.0\n"
     ]
    }
   ],
   "source": [
    "# check min and max for 'Price'\n",
    "print(\"Min Price:\", df['Price'].min())\n",
    "print(\"Max Price:\", df['Price'].max())\n"
   ]
  },
  {
   "cell_type": "code",
   "execution_count": 131,
   "id": "8bb2ec7f",
   "metadata": {},
   "outputs": [
    {
     "name": "stdout",
     "output_type": "stream",
     "text": [
      "Lower bound for outliers: -110000.0\n",
      "Upper bound for outliers: 794000.0\n"
     ]
    }
   ],
   "source": [
    "# calculate outliers for 'Price'\n",
    "Q1 = df['Price'].quantile(0.25)\n",
    "Q3 = df['Price'].quantile(0.75)\n",
    "IQR = Q3 - Q1\n",
    "lower_bound = Q1 - 1.5 * IQR\n",
    "upper_bound = Q3 + 1.5 * IQR\n",
    "print(\"Lower bound for outliers:\", lower_bound)\n",
    "print(\"Upper bound for outliers:\", upper_bound)\n"
   ]
  },
  {
   "cell_type": "markdown",
   "id": "e5e8d747",
   "metadata": {},
   "source": [
    "### Feature: **Property Types & Subtypes**\n",
    "(categorical nominal variables: let's try bar graphs or frequency tables)"
   ]
  },
  {
   "cell_type": "code",
   "execution_count": 132,
   "id": "5ca1e947",
   "metadata": {},
   "outputs": [
    {
     "data": {
      "text/plain": [
       "PropertyType\n",
       "HOUSE        35139\n",
       "APARTMENT    25970\n",
       "Name: count, dtype: int64"
      ]
     },
     "execution_count": 132,
     "metadata": {},
     "output_type": "execute_result"
    }
   ],
   "source": [
    "df['PropertyType'].value_counts()\n"
   ]
  },
  {
   "cell_type": "code",
   "execution_count": 133,
   "id": "a4307045",
   "metadata": {},
   "outputs": [
    {
     "data": {
      "text/plain": [
       "PropertyType\n",
       "HOUSE        0.575022\n",
       "APARTMENT    0.424978\n",
       "Name: proportion, dtype: float64"
      ]
     },
     "execution_count": 133,
     "metadata": {},
     "output_type": "execute_result"
    }
   ],
   "source": [
    "# print percentage of each property type of total\n",
    "df['PropertyType'].value_counts(normalize=True)"
   ]
  },
  {
   "cell_type": "code",
   "execution_count": 134,
   "id": "d25ad538",
   "metadata": {},
   "outputs": [
    {
     "data": {
      "text/plain": [
       "PropertySubType\n",
       "HOUSE                   27466\n",
       "APARTMENT               19994\n",
       "VILLA                    2951\n",
       "GROUND_FLOOR             1521\n",
       "DUPLEX                   1392\n",
       "APARTMENT_BLOCK          1389\n",
       "MIXED_USE_BUILDING       1159\n",
       "PENTHOUSE                1139\n",
       "FLAT_STUDIO               955\n",
       "TOWN_HOUSE                464\n",
       "SERVICE_FLAT              406\n",
       "EXCEPTIONAL_PROPERTY      374\n",
       "MANSION                   348\n",
       "BUNGALOW                  347\n",
       "LOFT                      231\n",
       "KOT                       208\n",
       "COUNTRY_COTTAGE           204\n",
       "FARMHOUSE                 161\n",
       "TRIPLEX                   124\n",
       "MANOR_HOUSE               110\n",
       "CHALET                    102\n",
       "OTHER_PROPERTY             61\n",
       "CASTLE                      3\n",
       "Name: count, dtype: int64"
      ]
     },
     "execution_count": 134,
     "metadata": {},
     "output_type": "execute_result"
    }
   ],
   "source": [
    "df['PropertySubType'].value_counts()\n"
   ]
  },
  {
   "cell_type": "code",
   "execution_count": 135,
   "id": "044d3e01",
   "metadata": {},
   "outputs": [
    {
     "data": {
      "text/plain": [
       "PropertyType  PropertySubType     \n",
       "APARTMENT     APARTMENT               19994\n",
       "              GROUND_FLOOR             1521\n",
       "              DUPLEX                   1392\n",
       "              PENTHOUSE                1139\n",
       "              FLAT_STUDIO               955\n",
       "              SERVICE_FLAT              406\n",
       "              LOFT                      231\n",
       "              KOT                       208\n",
       "              TRIPLEX                   124\n",
       "HOUSE         HOUSE                   27466\n",
       "              VILLA                    2951\n",
       "              APARTMENT_BLOCK          1389\n",
       "              MIXED_USE_BUILDING       1159\n",
       "              TOWN_HOUSE                464\n",
       "              EXCEPTIONAL_PROPERTY      374\n",
       "              MANSION                   348\n",
       "              BUNGALOW                  347\n",
       "              COUNTRY_COTTAGE           204\n",
       "              FARMHOUSE                 161\n",
       "              MANOR_HOUSE               110\n",
       "              CHALET                    102\n",
       "              OTHER_PROPERTY             61\n",
       "              CASTLE                      3\n",
       "Name: count, dtype: int64"
      ]
     },
     "execution_count": 135,
     "metadata": {},
     "output_type": "execute_result"
    }
   ],
   "source": [
    "# print property type with each subtype\n",
    "df.groupby('PropertyType')['PropertySubType'].value_counts()\n"
   ]
  },
  {
   "cell_type": "code",
   "execution_count": 136,
   "id": "b24073e7",
   "metadata": {},
   "outputs": [
    {
     "data": {
      "text/plain": [
       "PropertySubType\n",
       "VILLA                   7850000.0\n",
       "HOUSE                   6950000.0\n",
       "APARTMENT               5995000.0\n",
       "DUPLEX                  5995000.0\n",
       "PENTHOUSE               5995000.0\n",
       "GROUND_FLOOR            5250000.0\n",
       "MANOR_HOUSE             4750000.0\n",
       "EXCEPTIONAL_PROPERTY    3865000.0\n",
       "COUNTRY_COTTAGE         2500000.0\n",
       "FARMHOUSE               2500000.0\n",
       "MIXED_USE_BUILDING      2500000.0\n",
       "APARTMENT_BLOCK         2490000.0\n",
       "OTHER_PROPERTY          1925000.0\n",
       "LOFT                    1890000.0\n",
       "MANSION                 1550000.0\n",
       "FLAT_STUDIO             1525000.0\n",
       "TRIPLEX                 1495000.0\n",
       "BUNGALOW                1450000.0\n",
       "TOWN_HOUSE              1350000.0\n",
       "KOT                     1175000.0\n",
       "CASTLE                   995000.0\n",
       "SERVICE_FLAT             862000.0\n",
       "CHALET                   625000.0\n",
       "Name: Price, dtype: float64"
      ]
     },
     "execution_count": 136,
     "metadata": {},
     "output_type": "execute_result"
    }
   ],
   "source": [
    "# print property type with each subtype and percentage of subtype in each property type\n",
    "df.groupby('PropertyType')['PropertySubType'].value_counts(normalize=True).mul(100).round(2).astype(str) + '%'\n",
    "# display max price per each of these PropertySubTypes\n",
    "df.groupby('PropertySubType')['Price'].max().sort_values(ascending=False)"
   ]
  },
  {
   "cell_type": "code",
   "execution_count": 137,
   "id": "fd905136",
   "metadata": {},
   "outputs": [
    {
     "data": {
      "text/plain": [
       "<Axes: ylabel='PropertySubType'>"
      ]
     },
     "execution_count": 137,
     "metadata": {},
     "output_type": "execute_result"
    },
    {
     "data": {
      "image/png": "[encoded data removed]",
      "text/plain": [
       "<Figure size 1000x500 with 1 Axes>"
      ]
     },
     "metadata": {},
     "output_type": "display_data"
    }
   ],
   "source": [
    "# bar chart property subtypes per each type\n",
    "#df.groupby('PropertyType')['PropertySubType'].value_counts().unstack().plot(kind='bar', stacked=True, figsize=(10, 5))\n",
    "\n",
    "#bar chart property subtypes\n",
    "df['PropertySubType'].value_counts().plot(kind='barh', figsize=(10, 5))"
   ]
  },
  {
   "cell_type": "markdown",
   "id": "f3920e32",
   "metadata": {},
   "source": [
    "### Conclusions - types:\n",
    "- **Property Types**: \n",
    "  - house are more common than apartments in our dataset\n",
    "  - 60% houses, 40% apartments\n",
    "- **Property Subtypes**:\n",
    "  - top 5 subtypes for houses: 74% houses, 8% villas, 9% apt blocks & mixed use buildings, 1% town houses, 1% mansions and the rest less than 1%\n",
    "  - top 5 subtypes for apartments: 77% apartments, 5% ground floor, 5% duplexes, 4% penthouses, 3% studios and the rest less than 1%\n"
   ]
  },
  {
   "cell_type": "markdown",
   "id": "aecbc964",
   "metadata": {},
   "source": [
    "### Feature: **Location**\n",
    "\n",
    "(**categorical nominal**: let's try bar graphs or frequency tables)\n",
    "\n",
    "- region\n",
    "- province\n",
    "- district\n",
    "- city\n",
    "- how about lat and long?"
   ]
  },
  {
   "cell_type": "code",
   "execution_count": 138,
   "id": "7d6d27da",
   "metadata": {},
   "outputs": [
    {
     "data": {
      "text/plain": [
       "Region\n",
       "FLANDERS    37084\n",
       "WALLONIE    17441\n",
       "BRUSSELS     6584\n",
       "Name: count, dtype: int64"
      ]
     },
     "execution_count": 138,
     "metadata": {},
     "output_type": "execute_result"
    }
   ],
   "source": [
    "df['Region'].value_counts()"
   ]
  },
  {
   "cell_type": "code",
   "execution_count": 139,
   "id": "9ff7e58e",
   "metadata": {},
   "outputs": [
    {
     "data": {
      "text/plain": [
       "Region\n",
       "FLANDERS    0.606850\n",
       "WALLONIE    0.285408\n",
       "BRUSSELS    0.107742\n",
       "Name: proportion, dtype: float64"
      ]
     },
     "execution_count": 139,
     "metadata": {},
     "output_type": "execute_result"
    }
   ],
   "source": [
    "# frequency table for region\n",
    "df['Region'].value_counts(normalize=True)"
   ]
  },
  {
   "cell_type": "code",
   "execution_count": 140,
   "id": "156ce880",
   "metadata": {},
   "outputs": [
    {
     "data": {
      "text/plain": [
       "Region    Province       \n",
       "BRUSSELS  Brussels            6584\n",
       "FLANDERS  Antwerp            10445\n",
       "          West Flanders      10165\n",
       "          East Flanders       8525\n",
       "          Flemish Brabant     5410\n",
       "          Limburg             2539\n",
       "WALLONIE  Hainaut             6292\n",
       "          Liege               5176\n",
       "          Namur               2232\n",
       "          Walloon Brabant     2217\n",
       "          Luxembourg          1524\n",
       "Name: count, dtype: int64"
      ]
     },
     "execution_count": 140,
     "metadata": {},
     "output_type": "execute_result"
    }
   ],
   "source": [
    "# frequency table for region and province\n",
    "df.groupby('Region')['Province'].value_counts()"
   ]
  },
  {
   "cell_type": "code",
   "execution_count": 141,
   "id": "8d138acc",
   "metadata": {},
   "outputs": [],
   "source": [
    "#df['District'].value_counts()"
   ]
  },
  {
   "cell_type": "code",
   "execution_count": 142,
   "id": "018e05d8",
   "metadata": {},
   "outputs": [
    {
     "data": {
      "text/plain": [
       "Region    Province         District         \n",
       "BRUSSELS  Brussels         Brussels             6584\n",
       "FLANDERS  Antwerp          Antwerp              6252\n",
       "                           Mechelen             1946\n",
       "                           Turnhout             2247\n",
       "          East Flanders    Aalst                1977\n",
       "                           Dendermonde          1076\n",
       "                           Eeklo                 484\n",
       "                           Gent                 2805\n",
       "                           Oudenaarde            975\n",
       "                           Sint-Niklaas         1208\n",
       "          Flemish Brabant  Halle-Vilvoorde      3045\n",
       "                           Leuven               2365\n",
       "          Limburg          Hasselt              1538\n",
       "                           Maaseik               512\n",
       "                           Tongeren              489\n",
       "          West Flanders    Brugge               3417\n",
       "                           Diksmuide             295\n",
       "                           Ieper                 325\n",
       "                           Kortrijk             1947\n",
       "                           Oostend              1753\n",
       "                           Roeselare             840\n",
       "                           Tielt                 491\n",
       "                           Veurne               1097\n",
       "WALLONIE  Hainaut          Ath                   438\n",
       "                           Charleroi            1898\n",
       "                           Mons                 1154\n",
       "                           Mouscron              432\n",
       "                           Soignies              895\n",
       "                           Thuin                 651\n",
       "                           Tournai               824\n",
       "          Liege            Huy                   530\n",
       "                           Liege                3361\n",
       "                           Verviers              920\n",
       "                           Waremme               365\n",
       "          Luxembourg       Arlon                 312\n",
       "                           Bastogne              218\n",
       "                           Marche-en-Famenne     396\n",
       "                           Neufchateau           341\n",
       "                           Virton                257\n",
       "          Namur            Dinant                612\n",
       "                           Namur                1396\n",
       "                           Philippeville         224\n",
       "          Walloon Brabant  Nivelles             2217\n",
       "dtype: int64"
      ]
     },
     "execution_count": 142,
     "metadata": {},
     "output_type": "execute_result"
    }
   ],
   "source": [
    "# group by region province and district\n",
    "df.groupby(['Region', 'Province', 'District']).size()\n"
   ]
  },
  {
   "cell_type": "code",
   "execution_count": 143,
   "id": "5a2adbb5",
   "metadata": {},
   "outputs": [
    {
     "data": {
      "text/plain": [
       "City\n",
       "AALTER                 1\n",
       "ASPER                  1\n",
       "ASTENE                29\n",
       "Aalter                91\n",
       "Aalter Bellem          1\n",
       "                      ..\n",
       "Zulte                 40\n",
       "Zwijnaarde            29\n",
       "gent                   1\n",
       "sint-martens-latem     1\n",
       "zomergem               1\n",
       "Length: 150, dtype: int64"
      ]
     },
     "execution_count": 143,
     "metadata": {},
     "output_type": "execute_result"
    }
   ],
   "source": [
    "df[df['District'] == 'Gent'].groupby('City').size()\n"
   ]
  },
  {
   "cell_type": "code",
   "execution_count": 144,
   "id": "9a756834",
   "metadata": {},
   "outputs": [
    {
     "data": {
      "text/plain": [
       "City\n",
       "Gent                895\n",
       "Deinze              194\n",
       "Merelbeke           101\n",
       "Lochristi            92\n",
       "Evergem              92\n",
       "                   ... \n",
       "ZOMERGEM              1\n",
       "WONDELGEM             1\n",
       "OOSTWINKEL            1\n",
       "Gent                  1\n",
       "Heusden (O.-Vl.)      1\n",
       "Name: count, Length: 150, dtype: int64"
      ]
     },
     "execution_count": 144,
     "metadata": {},
     "output_type": "execute_result"
    }
   ],
   "source": [
    "# group by District: Gent and then city (all the towns/localities in Gent area)\n",
    "\n",
    "df[df['District'] == 'Gent']['City'].value_counts()\n"
   ]
  },
  {
   "cell_type": "code",
   "execution_count": 145,
   "id": "b56e4918",
   "metadata": {},
   "outputs": [
    {
     "data": {
      "text/plain": [
       "array(['AALTER', 'ASPER', 'ASTENE', 'Aalter', 'Aalter Bellem',\n",
       "       'Aalter Lotenhulle', 'Asper', 'Astene', 'BACHTE-MARIA-LEERNE',\n",
       "       'BELLEM', 'Baaigem', 'Baarle Drongen', 'Bachte-Maria-Leerne',\n",
       "       'Balegem', 'Beervelde', 'Belzele', 'Bottelare', 'DE PINTE',\n",
       "       'DEINZE', 'DESTELBERGEN', 'DRONGEN', 'De Pinte',\n",
       "       'De Pinte Zevergem', 'Deinze', 'Deinze Astene',\n",
       "       'Deinze Bachte-Maria-Leerne', 'Destelbergen', 'Desteldonk',\n",
       "       'Deurle', 'Dikkelvenne', 'Drongen', 'ERTVELDE', 'EVERGEM', 'Eke',\n",
       "       'Ertvelde', 'Evergem', 'GENT', 'GENTBRUGGE', 'GONTRODE', 'Gavere',\n",
       "       'Gavere Asper', 'Gent', 'Gent ', 'Gent (9000)', 'Gent Drongen',\n",
       "       'Gent Gentbrugge', 'Gent Ledeberg', 'Gent Mariakerke',\n",
       "       'Gent Oostakker', 'Gent Sint-Amandsberg',\n",
       "       'Gent Sint-Denijs-Westrem', 'Gent Wondelgem', 'Gent Zwijnaarde',\n",
       "       'Gentbrugge', 'Gentbrugge (Gent)', 'Ghent', 'Grammene', 'HANSBEKE',\n",
       "       'HEUSDEN', 'Hansbeke', 'Heusden', 'Heusden (9070)',\n",
       "       'Heusden (O.-Vl.)', 'Knesselare', 'Knesselare (Aalter)',\n",
       "       'LEDEBERG', 'LIEVEGEM', 'LOCHRISTI', 'LOTENHULLE', 'LOVENDEGEM',\n",
       "       'Landegem', 'Landskouter', 'Ledeberg', 'Lievegem', 'Lochristi',\n",
       "       'Lotenhulle', 'Lovendegem', 'MARIAKERKE', 'MELLE', 'MERELBEKE',\n",
       "       'MOERBEKE', 'Machelen', 'Machelen (9870)', 'Machelen (O.-Vl.)',\n",
       "       'Mariakerke', 'Melle', 'Melsen', 'Merelbeke', 'Merendree',\n",
       "       'Moerbeke', 'Moerbeke-Waas', 'Moortsele', 'NAZARETH', 'NEVELE',\n",
       "       'Nazareth', 'Nazareth Eke', 'Nevele', 'Nevele (Deinze)',\n",
       "       'OOSTAKKER', 'OOSTERZELE', 'OOSTWINKEL', 'Olsene', 'Oostakker',\n",
       "       'Oosterzele', 'Oostwinkel', 'PETEGEM-AAN-DE-LEIE',\n",
       "       'Petegem-aan-de-Leie', 'Poesele', 'RIEME', 'Rieme',\n",
       "       'SINT-AMANDSBERG', 'SINT-DENIJS-WESTREM', 'SINT-MARTENS-LATEM',\n",
       "       'SLEIDINGE', 'Scheldewindeke', 'Semmerzake', 'Sint Denijs Westrem',\n",
       "       'Sint-Amandsberg', 'Sint-Denijs-Westrem', 'Sint-Kruis-Winkel',\n",
       "       'Sint-Martens-Latem', 'Sint-Martens-Latem Deurle',\n",
       "       'Sint-amandsberg', 'Sleidinge', 'St-Amandsberg', 'Ursel', 'VINKT',\n",
       "       'VOSSELARE', 'Vinkt', 'WAARSCHOOT', 'WACHTEBEKE', 'WONDELGEM',\n",
       "       'Waarschoot', 'Wachtebeke', 'Wondelgem', 'Wontergem', 'ZOMERGEM',\n",
       "       'ZULTE', 'ZWIJNAARDE', 'Zaffelare', 'Zeveneken', 'Zeveren',\n",
       "       'Zevergem', 'Zomergem', 'Zomergem Oostwinkel', 'Zulte',\n",
       "       'Zwijnaarde', 'gent', 'sint-martens-latem', 'zomergem'],\n",
       "      dtype=object)"
      ]
     },
     "execution_count": 145,
     "metadata": {},
     "output_type": "execute_result"
    }
   ],
   "source": [
    "# unique values in District Gent, sorted alphabetically\n",
    "np.sort(df[df['District'] == 'Gent']['City'].unique())\n"
   ]
  },
  {
   "cell_type": "code",
   "execution_count": 146,
   "id": "42d4ffd5",
   "metadata": {},
   "outputs": [],
   "source": [
    "# rewrite same unique values that are written differently, e.g. \"AALTER\" and \"Aalter\"\n",
    "df['City'] = df['City'].str.upper() # convert to uppercase\n",
    "df['City'] = df['City'].str.strip() # remove leading and trailing whitespaces\n"
   ]
  },
  {
   "cell_type": "code",
   "execution_count": 147,
   "id": "adfb9c1a",
   "metadata": {},
   "outputs": [
    {
     "data": {
      "text/plain": [
       "array(['AALTER', 'AALTER BELLEM', 'AALTER LOTENHULLE', 'ASPER', 'ASTENE',\n",
       "       'BAAIGEM', 'BAARLE DRONGEN', 'BACHTE-MARIA-LEERNE', 'BALEGEM',\n",
       "       'BEERVELDE', 'BELLEM', 'BELZELE', 'BOTTELARE', 'DE PINTE',\n",
       "       'DE PINTE ZEVERGEM', 'DEINZE', 'DEINZE ASTENE',\n",
       "       'DEINZE BACHTE-MARIA-LEERNE', 'DESTELBERGEN', 'DESTELDONK',\n",
       "       'DEURLE', 'DIKKELVENNE', 'DRONGEN', 'EKE', 'ERTVELDE', 'EVERGEM',\n",
       "       'GAVERE', 'GAVERE ASPER', 'GENT', 'GENT (9000)', 'GENT DRONGEN',\n",
       "       'GENT GENTBRUGGE', 'GENT LEDEBERG', 'GENT MARIAKERKE',\n",
       "       'GENT OOSTAKKER', 'GENT SINT-AMANDSBERG',\n",
       "       'GENT SINT-DENIJS-WESTREM', 'GENT WONDELGEM', 'GENT ZWIJNAARDE',\n",
       "       'GENTBRUGGE', 'GENTBRUGGE (GENT)', 'GHENT', 'GONTRODE', 'GRAMMENE',\n",
       "       'HANSBEKE', 'HEUSDEN', 'HEUSDEN (9070)', 'HEUSDEN (O.-VL.)',\n",
       "       'KNESSELARE', 'KNESSELARE (AALTER)', 'LANDEGEM', 'LANDSKOUTER',\n",
       "       'LEDEBERG', 'LIEVEGEM', 'LOCHRISTI', 'LOTENHULLE', 'LOVENDEGEM',\n",
       "       'MACHELEN', 'MACHELEN (9870)', 'MACHELEN (O.-VL.)', 'MARIAKERKE',\n",
       "       'MELLE', 'MELSEN', 'MERELBEKE', 'MERENDREE', 'MOERBEKE',\n",
       "       'MOERBEKE-WAAS', 'MOORTSELE', 'NAZARETH', 'NAZARETH EKE', 'NEVELE',\n",
       "       'NEVELE (DEINZE)', 'OLSENE', 'OOSTAKKER', 'OOSTERZELE',\n",
       "       'OOSTWINKEL', 'PETEGEM-AAN-DE-LEIE', 'POESELE', 'RIEME',\n",
       "       'SCHELDEWINDEKE', 'SEMMERZAKE', 'SINT DENIJS WESTREM',\n",
       "       'SINT-AMANDSBERG', 'SINT-DENIJS-WESTREM', 'SINT-KRUIS-WINKEL',\n",
       "       'SINT-MARTENS-LATEM', 'SINT-MARTENS-LATEM DEURLE', 'SLEIDINGE',\n",
       "       'ST-AMANDSBERG', 'URSEL', 'VINKT', 'VOSSELARE', 'WAARSCHOOT',\n",
       "       'WACHTEBEKE', 'WONDELGEM', 'WONTERGEM', 'ZAFFELARE', 'ZEVENEKEN',\n",
       "       'ZEVEREN', 'ZEVERGEM', 'ZOMERGEM', 'ZOMERGEM OOSTWINKEL', 'ZULTE',\n",
       "       'ZWIJNAARDE'], dtype=object)"
      ]
     },
     "execution_count": 147,
     "metadata": {},
     "output_type": "execute_result"
    }
   ],
   "source": [
    "# check unique values in District Gent after capitalizing\n",
    "np.sort(df[df['District'] == 'Gent']['City'].unique())"
   ]
  },
  {
   "cell_type": "code",
   "execution_count": 148,
   "id": "6a5e5a7d",
   "metadata": {},
   "outputs": [],
   "source": [
    "# Replace specific substrings in the 'City' column (for Gent)\n",
    "df['City'] = df['City'].str.replace('ST-MARTENS-LATEM', 'SINT-MARTENS-LATEM', regex=False)\n",
    "# Replace variations of 'GENT' with 'GENT'\n",
    "df['City'] = df['City'].str.replace(r'^(GENT \\(9000\\)|GHENT)$', 'GENT', regex=True)\n"
   ]
  },
  {
   "cell_type": "code",
   "execution_count": 149,
   "id": "b85a3b22",
   "metadata": {},
   "outputs": [
    {
     "data": {
      "text/plain": [
       "array(['AALTER', 'AALTER BELLEM', 'AALTER LOTENHULLE', 'ASPER', 'ASTENE',\n",
       "       'BAAIGEM', 'BAARLE DRONGEN', 'BACHTE-MARIA-LEERNE', 'BALEGEM',\n",
       "       'BEERVELDE', 'BELLEM', 'BELZELE', 'BOTTELARE', 'DE PINTE',\n",
       "       'DE PINTE ZEVERGEM', 'DEINZE', 'DEINZE ASTENE',\n",
       "       'DEINZE BACHTE-MARIA-LEERNE', 'DESTELBERGEN', 'DESTELDONK',\n",
       "       'DEURLE', 'DIKKELVENNE', 'DRONGEN', 'EKE', 'ERTVELDE', 'EVERGEM',\n",
       "       'GAVERE', 'GAVERE ASPER', 'GENT', 'GENT DRONGEN',\n",
       "       'GENT GENTBRUGGE', 'GENT LEDEBERG', 'GENT MARIAKERKE',\n",
       "       'GENT OOSTAKKER', 'GENT SINT-AMANDSBERG',\n",
       "       'GENT SINT-DENIJS-WESTREM', 'GENT WONDELGEM', 'GENT ZWIJNAARDE',\n",
       "       'GENTBRUGGE', 'GENTBRUGGE (GENT)', 'GONTRODE', 'GRAMMENE',\n",
       "       'HANSBEKE', 'HEUSDEN', 'HEUSDEN (9070)', 'HEUSDEN (O.-VL.)',\n",
       "       'KNESSELARE', 'KNESSELARE (AALTER)', 'LANDEGEM', 'LANDSKOUTER',\n",
       "       'LEDEBERG', 'LIEVEGEM', 'LOCHRISTI', 'LOTENHULLE', 'LOVENDEGEM',\n",
       "       'MACHELEN', 'MACHELEN (9870)', 'MACHELEN (O.-VL.)', 'MARIAKERKE',\n",
       "       'MELLE', 'MELSEN', 'MERELBEKE', 'MERENDREE', 'MOERBEKE',\n",
       "       'MOERBEKE-WAAS', 'MOORTSELE', 'NAZARETH', 'NAZARETH EKE', 'NEVELE',\n",
       "       'NEVELE (DEINZE)', 'OLSENE', 'OOSTAKKER', 'OOSTERZELE',\n",
       "       'OOSTWINKEL', 'PETEGEM-AAN-DE-LEIE', 'POESELE', 'RIEME',\n",
       "       'SCHELDEWINDEKE', 'SEMMERZAKE', 'SINT DENIJS WESTREM',\n",
       "       'SINT-AMANDSBERG', 'SINT-DENIJS-WESTREM', 'SINT-KRUIS-WINKEL',\n",
       "       'SINT-MARTENS-LATEM', 'SINT-MARTENS-LATEM DEURLE', 'SLEIDINGE',\n",
       "       'ST-AMANDSBERG', 'URSEL', 'VINKT', 'VOSSELARE', 'WAARSCHOOT',\n",
       "       'WACHTEBEKE', 'WONDELGEM', 'WONTERGEM', 'ZAFFELARE', 'ZEVENEKEN',\n",
       "       'ZEVEREN', 'ZEVERGEM', 'ZOMERGEM', 'ZOMERGEM OOSTWINKEL', 'ZULTE',\n",
       "       'ZWIJNAARDE'], dtype=object)"
      ]
     },
     "execution_count": 149,
     "metadata": {},
     "output_type": "execute_result"
    }
   ],
   "source": [
    "# check unique values in District Gent after transformations\n",
    "np.sort(df[df['District'] == 'Gent']['City'].unique())"
   ]
  },
  {
   "cell_type": "code",
   "execution_count": 150,
   "id": "49f8755b",
   "metadata": {},
   "outputs": [
    {
     "data": {
      "text/plain": [
       "array([\"'S GRAVENWEZEL\", \"'S-GRAVENWEZEL\", 'AARTSELAAR', 'ANTWERP',\n",
       "       'ANTWERP 1', 'ANTWERP 5', 'ANTWERPEN', 'ANTWERPEN (2000)',\n",
       "       'ANTWERPEN (2018)', 'ANTWERPEN (2020)', 'ANTWERPEN (2050)',\n",
       "       'ANTWERPEN (2060)', 'ANTWERPEN 1', 'ANTWERPEN 2', 'ANTWERPEN 2000',\n",
       "       'ANTWERPEN 2018', 'ANTWERPEN 2050', 'ANTWERPEN 2060',\n",
       "       'ANTWERPEN 4', 'ANTWERPEN 6', 'ANTWERPEN BERCHEM',\n",
       "       'ANTWERPEN BERENDRECHT-ZANDVLIET-LILLO',\n",
       "       'ANTWERPEN BERENDRECHT-ZANDVLIET-LILLO, ZANDVLIET',\n",
       "       'ANTWERPEN BORGERHOUT', 'ANTWERPEN DEURNE', 'ANTWERPEN EKEREN',\n",
       "       'ANTWERPEN EKEREN MARIABURG', 'ANTWERPEN HOBOKEN',\n",
       "       'ANTWERPEN KIEL', 'ANTWERPEN LINKEROEVER', 'ANTWERPEN MERKSEM',\n",
       "       'ANTWERPEN WILRIJK', 'ANTWERPEN-BERCHEM', 'ANTWERPEN-EKEREN',\n",
       "       'ANTWERPEN-HOBOKEN', 'ANTWERPEN-LINKEROEVER', 'ANTWERPEN-NOORD',\n",
       "       'ANTWERPEN-WILRIJK', 'ANTWERPEN-ZUID', 'BERCHEM', 'BERCHEM (2600)',\n",
       "       'BERCHEM (ANTWERPEN)', 'BERENDRECHT', 'BOECHOUT',\n",
       "       'BOECHOUT (BOECHOUT)', 'BOECHOUT VREMDE', 'BOOM', 'BOOM (BOOM)',\n",
       "       'BORGERHOUT', 'BORGERHOUT (ANTWERPEN)', 'BORSBEEK',\n",
       "       'BORSBEEK (BORSBEEK)', 'BRASSCHAAT', 'BRASSCHAAT (BRASSCHAAT)',\n",
       "       'BRECHT', 'BRECHT (BRECHT)', \"BRECHT SINT-JOB-IN-'T-GOOR\",\n",
       "       'BRECHT SINT-LENAARTS', 'BROECHEM', 'BURCHT',\n",
       "       'BURCHT (ZWIJNDRECHT)', 'DEURNE', 'DEURNE (2100)',\n",
       "       'DEURNE (ANTWERPEN)', 'DEURNE ZUID', 'EDEGEM', 'EKEREN',\n",
       "       'EKEREN (ANTWERPEN)', 'EMBLEM', 'ESSEN', 'GOOREIND', 'HEMIKSEM',\n",
       "       'HOBOKEN', 'HOBOKEN (ANTWERPEN)', 'HOEVENEN', 'HOEVENEN/STABROEK',\n",
       "       'HOVE', 'KALMTHOUT', 'KAPELLEN', 'KAPELLEN (2950)',\n",
       "       'KAPELLEN (ANTW.)', 'KLEINE HORENDONK', 'KONTICH', 'LINKEROEVER',\n",
       "       'LINKEROEVER (ANTWERPEN)', 'LINT', 'LINT (LINT)', 'LOENHOUT',\n",
       "       'MALLE', 'MALLE OOSTMALLE', 'MALLE WESTMALLE', 'MASSENHOVEN',\n",
       "       'MERKSEM', 'MERKSEM (ANTWERPEN)', 'MERKSEM ANTWERPEN', 'MORTSEL',\n",
       "       'MORTSEL (MORTSEL)', 'NIEL', 'NIEL (NIEL)', 'OELEGEM', 'OOSTMALLE',\n",
       "       'PULDERBOS', 'PULLE', 'RANST', 'RANST BROECHEM', 'RANST EMBLEM',\n",
       "       'RANST OELEGEM', 'REET', 'RUMST', 'RUMST REET', 'SCHELLE',\n",
       "       'SCHILDE', \"SCHILDE 'S GRAVENWEZEL\", 'SCHOTEN',\n",
       "       'SCHOTEN (SCHOTEN)', 'SINT ANTONIUS', 'SINT JOB',\n",
       "       \"SINT JOB IN T' GOOR\", 'SINT-ANTONIUS', \"SINT-JOB-IN'T-GOOR\",\n",
       "       \"SINT-JOB-IN-'T-GOOR\", 'SINT-LENAARTS', 'STABROEK',\n",
       "       'STABROEK HOEVENEN', 'TERHAGEN', 'VIERSEL', 'VREMDE',\n",
       "       'VREMDE (BOECHOUT)', 'WAARLOOS', 'WESTMALLE', 'WIJNEGEM',\n",
       "       'WILRIJK', 'WILRIJK (ANTWERPEN)', 'WILRIJK, ANTWERPEN',\n",
       "       'WOMMELGEM', 'WUUSTWEZEL', 'WUUSTWEZEL LOENHOUT', 'ZANDHOVEN',\n",
       "       'ZANDHOVEN PULDERBOS', 'ZANDHOVEN PULLE', 'ZANDVLIET', 'ZOERSEL',\n",
       "       'ZOERSEL - GRENS SCHILDE', 'ZOERSEL HALLE', 'ZWIJNDRECHT',\n",
       "       'ZWIJNDRECHT (ZWIJNDRECHT)', 'ZWIJNDRECHT BURCHT'], dtype=object)"
      ]
     },
     "execution_count": 150,
     "metadata": {},
     "output_type": "execute_result"
    }
   ],
   "source": [
    "# doing the same check-ups for Antwerp, but here I don't have the knowledge so I will leave it as is\n",
    "np.sort(df[df['District'] == 'Antwerp']['City'].unique())"
   ]
  },
  {
   "cell_type": "code",
   "execution_count": 151,
   "id": "f502b7d2",
   "metadata": {},
   "outputs": [
    {
     "data": {
      "text/plain": [
       "City\n",
       "ANTWERP                           1053\n",
       "KNOKKE-HEIST                       983\n",
       "GENT                               939\n",
       "LIEGE                              877\n",
       "OOSTENDE                           728\n",
       "                                  ... \n",
       "DEUX ACREN                           1\n",
       "NIEL (NIEL)                          1\n",
       "BIESME-SOUS-THUIN                    1\n",
       "ERQUELINNES BERSILLIESL'ABBAYE       1\n",
       "SAINT-JOSSE                          1\n",
       "Name: count, Length: 3370, dtype: int64"
      ]
     },
     "execution_count": 151,
     "metadata": {},
     "output_type": "execute_result"
    }
   ],
   "source": [
    "df['City'].value_counts()"
   ]
  },
  {
   "cell_type": "code",
   "execution_count": 152,
   "id": "be667ce6",
   "metadata": {},
   "outputs": [
    {
     "data": {
      "text/plain": [
       "<Axes: ylabel='Region'>"
      ]
     },
     "execution_count": 152,
     "metadata": {},
     "output_type": "execute_result"
    },
    {
     "data": {
      "image/png": "[encoded data removed]",
      "text/plain": [
       "<Figure size 1000x500 with 1 Axes>"
      ]
     },
     "metadata": {},
     "output_type": "display_data"
    }
   ],
   "source": [
    "# bar chart per region\n",
    "df['Region'].value_counts().plot(kind='barh', figsize=(10, 5))"
   ]
  },
  {
   "cell_type": "code",
   "execution_count": 153,
   "id": "f3e43a0a",
   "metadata": {},
   "outputs": [
    {
     "data": {
      "image/png": "[encoded data removed]",
      "text/plain": [
       "<Figure size 1000x500 with 1 Axes>"
      ]
     },
     "metadata": {},
     "output_type": "display_data"
    }
   ],
   "source": [
    "# bar chart for province\n",
    "ax = df['Province'].value_counts().plot(kind='bar', figsize=(10, 5))\n",
    "ax.set_ylabel('Number of properties')\n",
    "plt.show()\n"
   ]
  },
  {
   "cell_type": "markdown",
   "id": "96734d21",
   "metadata": {},
   "source": [
    "### Conclusions - **location**:\n",
    "- **Region**: \n",
    "  - 60% of data is for Flanders, 30% is for Wallonia, 10% for Brussels\n",
    "- **City**:\n",
    "  - top 5 cities with most properties for sale: Antwerp, Knokke-Heist, Gent, Oostende, Liege\n"
   ]
  },
  {
   "cell_type": "code",
   "execution_count": 154,
   "id": "0ba60562",
   "metadata": {},
   "outputs": [
    {
     "data": {
      "text/html": [
       "<div>\n",
       "<style scoped>\n",
       "    .dataframe tbody tr th:only-of-type {\n",
       "        vertical-align: middle;\n",
       "    }\n",
       "\n",
       "    .dataframe tbody tr th {\n",
       "        vertical-align: top;\n",
       "    }\n",
       "\n",
       "    .dataframe thead th {\n",
       "        text-align: right;\n",
       "    }\n",
       "</style>\n",
       "<table border=\"1\" class=\"dataframe\">\n",
       "  <thead>\n",
       "    <tr style=\"text-align: right;\">\n",
       "      <th></th>\n",
       "      <th>City</th>\n",
       "      <th>PostalCode</th>\n",
       "      <th>Region</th>\n",
       "      <th>District</th>\n",
       "      <th>Province</th>\n",
       "      <th>PropertyType</th>\n",
       "      <th>PropertySubType</th>\n",
       "      <th>Price</th>\n",
       "      <th>BedroomCount</th>\n",
       "      <th>LivingArea</th>\n",
       "      <th>KitchenType</th>\n",
       "      <th>Terrace</th>\n",
       "      <th>Facades</th>\n",
       "    </tr>\n",
       "  </thead>\n",
       "  <tbody>\n",
       "    <tr>\n",
       "      <th>0</th>\n",
       "      <td>LIER</td>\n",
       "      <td>2500</td>\n",
       "      <td>FLANDERS</td>\n",
       "      <td>Mechelen</td>\n",
       "      <td>Antwerp</td>\n",
       "      <td>APARTMENT</td>\n",
       "      <td>APARTMENT</td>\n",
       "      <td>299000.0</td>\n",
       "      <td>2</td>\n",
       "      <td>76.0</td>\n",
       "      <td>INSTALLED</td>\n",
       "      <td>1.0</td>\n",
       "      <td>2.0</td>\n",
       "    </tr>\n",
       "    <tr>\n",
       "      <th>1</th>\n",
       "      <td>ANTWERP</td>\n",
       "      <td>2018</td>\n",
       "      <td>FLANDERS</td>\n",
       "      <td>Antwerp</td>\n",
       "      <td>Antwerp</td>\n",
       "      <td>APARTMENT</td>\n",
       "      <td>TRIPLEX</td>\n",
       "      <td>649000.0</td>\n",
       "      <td>3</td>\n",
       "      <td>222.0</td>\n",
       "      <td>USA_HYPER_EQUIPPED</td>\n",
       "      <td>1.0</td>\n",
       "      <td>2.0</td>\n",
       "    </tr>\n",
       "    <tr>\n",
       "      <th>2</th>\n",
       "      <td>ANTWERPEN 2018</td>\n",
       "      <td>2018</td>\n",
       "      <td>FLANDERS</td>\n",
       "      <td>Antwerp</td>\n",
       "      <td>Antwerp</td>\n",
       "      <td>APARTMENT</td>\n",
       "      <td>PENTHOUSE</td>\n",
       "      <td>285000.0</td>\n",
       "      <td>2</td>\n",
       "      <td>96.0</td>\n",
       "      <td>INSTALLED</td>\n",
       "      <td>NaN</td>\n",
       "      <td>NaN</td>\n",
       "    </tr>\n",
       "    <tr>\n",
       "      <th>3</th>\n",
       "      <td>ANTWERPEN</td>\n",
       "      <td>2140</td>\n",
       "      <td>FLANDERS</td>\n",
       "      <td>Antwerp</td>\n",
       "      <td>Antwerp</td>\n",
       "      <td>APARTMENT</td>\n",
       "      <td>APARTMENT</td>\n",
       "      <td>234900.0</td>\n",
       "      <td>2</td>\n",
       "      <td>96.0</td>\n",
       "      <td>INSTALLED</td>\n",
       "      <td>1.0</td>\n",
       "      <td>2.0</td>\n",
       "    </tr>\n",
       "    <tr>\n",
       "      <th>4</th>\n",
       "      <td>BERCHEM</td>\n",
       "      <td>2600</td>\n",
       "      <td>FLANDERS</td>\n",
       "      <td>Antwerp</td>\n",
       "      <td>Antwerp</td>\n",
       "      <td>APARTMENT</td>\n",
       "      <td>APARTMENT</td>\n",
       "      <td>189000.0</td>\n",
       "      <td>2</td>\n",
       "      <td>90.0</td>\n",
       "      <td>SEMI_EQUIPPED</td>\n",
       "      <td>1.0</td>\n",
       "      <td>2.0</td>\n",
       "    </tr>\n",
       "  </tbody>\n",
       "</table>\n",
       "</div>"
      ],
      "text/plain": [
       "             City  PostalCode    Region  District Province PropertyType  \\\n",
       "0            LIER        2500  FLANDERS  Mechelen  Antwerp    APARTMENT   \n",
       "1         ANTWERP        2018  FLANDERS   Antwerp  Antwerp    APARTMENT   \n",
       "2  ANTWERPEN 2018        2018  FLANDERS   Antwerp  Antwerp    APARTMENT   \n",
       "3       ANTWERPEN        2140  FLANDERS   Antwerp  Antwerp    APARTMENT   \n",
       "4         BERCHEM        2600  FLANDERS   Antwerp  Antwerp    APARTMENT   \n",
       "\n",
       "  PropertySubType     Price  BedroomCount  LivingArea         KitchenType  \\\n",
       "0       APARTMENT  299000.0             2        76.0           INSTALLED   \n",
       "1         TRIPLEX  649000.0             3       222.0  USA_HYPER_EQUIPPED   \n",
       "2       PENTHOUSE  285000.0             2        96.0           INSTALLED   \n",
       "3       APARTMENT  234900.0             2        96.0           INSTALLED   \n",
       "4       APARTMENT  189000.0             2        90.0       SEMI_EQUIPPED   \n",
       "\n",
       "   Terrace  Facades  \n",
       "0      1.0      2.0  \n",
       "1      1.0      2.0  \n",
       "2      NaN      NaN  \n",
       "3      1.0      2.0  \n",
       "4      1.0      2.0  "
      ]
     },
     "execution_count": 154,
     "metadata": {},
     "output_type": "execute_result"
    }
   ],
   "source": [
    "df.head(5)"
   ]
  },
  {
   "cell_type": "markdown",
   "id": "9c95393c",
   "metadata": {},
   "source": [
    "### Feature - Kitchen Type\n",
    "(**categorical ordinal**: barchart)"
   ]
  },
  {
   "cell_type": "code",
   "execution_count": 155,
   "id": "6be099d8",
   "metadata": {},
   "outputs": [
    {
     "data": {
      "text/plain": [
       "array(['INSTALLED', 'USA_HYPER_EQUIPPED', 'SEMI_EQUIPPED',\n",
       "       'HYPER_EQUIPPED', 'USA_INSTALLED', nan, 'USA_SEMI_EQUIPPED',\n",
       "       'NOT_INSTALLED', 'USA_UNINSTALLED'], dtype=object)"
      ]
     },
     "execution_count": 155,
     "metadata": {},
     "output_type": "execute_result"
    }
   ],
   "source": [
    "# unique values for kitchen type\n",
    "df['KitchenType'].unique()"
   ]
  },
  {
   "cell_type": "code",
   "execution_count": 156,
   "id": "a5674e3a",
   "metadata": {},
   "outputs": [
    {
     "data": {
      "text/plain": [
       "<Axes: ylabel='KitchenType'>"
      ]
     },
     "execution_count": 156,
     "metadata": {},
     "output_type": "execute_result"
    },
    {
     "data": {
      "image/png": "[encoded data removed]",
      "text/plain": [
       "<Figure size 1000x500 with 1 Axes>"
      ]
     },
     "metadata": {},
     "output_type": "display_data"
    }
   ],
   "source": [
    "# bar plot kitchen type\n",
    "df['KitchenType'].value_counts().plot(kind='barh', figsize=(10, 5))"
   ]
  },
  {
   "cell_type": "code",
   "execution_count": 157,
   "id": "bda851ad",
   "metadata": {},
   "outputs": [
    {
     "data": {
      "text/plain": [
       "Text(0.5, 0, 'Number of properties')"
      ]
     },
     "execution_count": 157,
     "metadata": {},
     "output_type": "execute_result"
    },
    {
     "data": {
      "image/png": "[encoded data removed]",
      "text/plain": [
       "<Figure size 1000x500 with 1 Axes>"
      ]
     },
     "metadata": {},
     "output_type": "display_data"
    }
   ],
   "source": [
    "ax = df['KitchenType'].value_counts().plot(kind='barh', figsize=(10, 5))\n",
    "ax.set_title('Kitchen Type')\n",
    "ax.set_xlabel('Number of properties')"
   ]
  },
  {
   "cell_type": "markdown",
   "id": "6fe81fe8",
   "metadata": {},
   "source": [
    "### Feature - EPC\n",
    "(**categorical ordinal**: barchart)"
   ]
  },
  {
   "cell_type": "code",
   "execution_count": 158,
   "id": "225d9b45",
   "metadata": {},
   "outputs": [],
   "source": [
    "# # unique values for EPCScore\n",
    "# df['EPCScore'].unique()"
   ]
  },
  {
   "cell_type": "markdown",
   "id": "9dc45be1",
   "metadata": {},
   "source": [
    "### Feature - Living Area\n",
    "(**continuous numerical**: try histogram, density plot, line graph)"
   ]
  },
  {
   "cell_type": "code",
   "execution_count": 159,
   "id": "994c3ad2",
   "metadata": {},
   "outputs": [
    {
     "data": {
      "text/plain": [
       "Text(0, 0.5, 'Number of properties')"
      ]
     },
     "execution_count": 159,
     "metadata": {},
     "output_type": "execute_result"
    },
    {
     "data": {
      "image/png": "[encoded data removed]",
      "text/plain": [
       "<Figure size 1000x500 with 1 Axes>"
      ]
     },
     "metadata": {},
     "output_type": "display_data"
    }
   ],
   "source": [
    "ax = df['LivingArea'].plot(kind='hist',\n",
    "                      bins=5,\n",
    "                      figsize=(10, 5),\n",
    "                      title='Living Area')\n",
    "ax.set_xlabel('Living Area (m²)')\n",
    "ax.set_ylabel('Number of properties')"
   ]
  },
  {
   "cell_type": "code",
   "execution_count": 160,
   "id": "a1582eb4",
   "metadata": {},
   "outputs": [
    {
     "name": "stdout",
     "output_type": "stream",
     "text": [
      "0     76.0\n",
      "1    222.0\n",
      "2     96.0\n",
      "3     96.0\n",
      "4     90.0\n",
      "Name: LivingArea, dtype: float64\n"
     ]
    }
   ],
   "source": [
    "print(df['LivingArea'].head(5))"
   ]
  },
  {
   "cell_type": "code",
   "execution_count": 161,
   "id": "acccbe7c",
   "metadata": {},
   "outputs": [
    {
     "data": {
      "text/plain": [
       "count    61109.000000\n",
       "mean       150.697704\n",
       "std         74.774912\n",
       "min          3.000000\n",
       "25%         94.000000\n",
       "50%        137.000000\n",
       "75%        190.000000\n",
       "max        400.000000\n",
       "Name: LivingArea, dtype: float64"
      ]
     },
     "execution_count": 161,
     "metadata": {},
     "output_type": "execute_result"
    }
   ],
   "source": [
    "df['LivingArea'].describe()"
   ]
  },
  {
   "cell_type": "code",
   "execution_count": 162,
   "id": "72f89b12",
   "metadata": {},
   "outputs": [
    {
     "data": {
      "image/png": "[encoded data removed]",
      "text/plain": [
       "<Figure size 1000x500 with 1 Axes>"
      ]
     },
     "metadata": {},
     "output_type": "display_data"
    }
   ],
   "source": [
    "# line plot for living area\n",
    "ax = df['LivingArea'].plot(kind='line',\n",
    "                      figsize=(10, 5),\n",
    "                      title='Living Area')\n",
    "ax.set_xlabel('Number of properties')\n",
    "ax.set_ylabel('Living Area (m²)')\n",
    "ax.yaxis.set_major_formatter(ticker.FuncFormatter(lambda x, _: '{:,.0f}'.format(x)))\n"
   ]
  },
  {
   "cell_type": "code",
   "execution_count": 163,
   "id": "2c8ad9ba",
   "metadata": {},
   "outputs": [],
   "source": [
    "#density plot for LivingArea\n",
    "#df['LivingArea'].plot(kind='density', figsize=(10, 5), title='Living Area', xlabel='Living Area (m²)', ylabel='Density')\n"
   ]
  }
 ],
 "metadata": {
  "kernelspec": {
   "display_name": "Python 3 (ipykernel)",
   "language": "python",
   "name": "python3"
  },
  "language_info": {
   "codemirror_mode": {
    "name": "ipython",
    "version": 3
   },
   "file_extension": ".py",
   "mimetype": "text/x-python",
   "name": "python",
   "nbconvert_exporter": "python",
   "pygments_lexer": "ipython3",
   "version": "3.12.2"
  }
 },
 "nbformat": 4,
 "nbformat_minor": 5
}
